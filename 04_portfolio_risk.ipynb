{
 "cells": [
  {
   "cell_type": "code",
   "execution_count": 7,
   "id": "740f86da-88e7-46ef-8012-c841b6f1edfb",
   "metadata": {
    "execution": {
     "iopub.execute_input": "2022-04-02T09:52:32.584479Z",
     "iopub.status.busy": "2022-04-02T09:52:32.584058Z",
     "iopub.status.idle": "2022-04-02T09:52:32.587512Z",
     "shell.execute_reply": "2022-04-02T09:52:32.587107Z",
     "shell.execute_reply.started": "2022-04-02T09:52:32.584450Z"
    },
    "tags": []
   },
   "outputs": [],
   "source": [
    "import os\n",
    "\n",
    "import matplotlib.dates as mdates\n",
    "import matplotlib.pyplot as plt\n",
    "import numpy as np\n",
    "import pandas as pd\n",
    "from sklearn.decomposition import PCA\n",
    "from tqdm.notebook import tqdm"
   ]
  },
  {
   "cell_type": "code",
   "execution_count": 8,
   "id": "e9677ed5-da59-4a10-8a8e-5abba87b75d5",
   "metadata": {
    "execution": {
     "iopub.execute_input": "2022-04-02T09:52:32.850368Z",
     "iopub.status.busy": "2022-04-02T09:52:32.849822Z",
     "iopub.status.idle": "2022-04-02T09:52:32.852803Z",
     "shell.execute_reply": "2022-04-02T09:52:32.852274Z",
     "shell.execute_reply.started": "2022-04-02T09:52:32.850339Z"
    },
    "tags": []
   },
   "outputs": [],
   "source": [
    "# Обучение проводим включительно по эту дату\n",
    "split_date = \"2020-12-30\""
   ]
  },
  {
   "cell_type": "code",
   "execution_count": 9,
   "id": "6c40cf46-455a-477a-a2f7-30354d8ea1e0",
   "metadata": {
    "execution": {
     "iopub.execute_input": "2022-04-02T09:52:33.109037Z",
     "iopub.status.busy": "2022-04-02T09:52:33.108482Z",
     "iopub.status.idle": "2022-04-02T09:52:33.112273Z",
     "shell.execute_reply": "2022-04-02T09:52:33.111696Z",
     "shell.execute_reply.started": "2022-04-02T09:52:33.109006Z"
    },
    "tags": []
   },
   "outputs": [],
   "source": [
    "interest_rates = [\"cbr_g_curve\"]\n",
    "currencies = [\"USD\", \"CHF\"]\n",
    "indexes = [\"BRENT\", \"GOLD\", \"IMOEX\", \"RTSI\"]\n",
    "instruments = [\n",
    "    \"APTK\",\n",
    "    \"BELU\",\n",
    "    \"FESH\",\n",
    "    \"MVID\",\n",
    "    \"NKNCP\",\n",
    "    \"PHOR\",\n",
    "    \"PIKK\",\n",
    "    \"RASP\",\n",
    "    \"SELG\",\n",
    "    \"SNGSP\",\n",
    "    # \"YNDX\",\n",
    "    \"OFZ_26207\",\n",
    "    \"OFZ_26209\",\n",
    "    \"OFZ_26211\",\n",
    "    \"OFZ_26212\",\n",
    "    \"OFZ_26218\",\n",
    "]"
   ]
  },
  {
   "cell_type": "code",
   "execution_count": 10,
   "id": "83f565b5-d52f-40b5-860d-13c4b1c451a0",
   "metadata": {
    "execution": {
     "iopub.execute_input": "2022-04-02T09:52:33.290711Z",
     "iopub.status.busy": "2022-04-02T09:52:33.290169Z",
     "iopub.status.idle": "2022-04-02T09:52:33.294752Z",
     "shell.execute_reply": "2022-04-02T09:52:33.294198Z",
     "shell.execute_reply.started": "2022-04-02T09:52:33.290681Z"
    },
    "tags": []
   },
   "outputs": [],
   "source": [
    "def concat_data(files):\n",
    "    df = []\n",
    "    for file in files:\n",
    "        df.append(pd.read_csv(file))\n",
    "    dfs = df[0]\n",
    "    for x in df[1:]:\n",
    "        dfs = pd.merge(dfs, x, on=[\"Date\"], how=\"outer\")\n",
    "\n",
    "    dfs = dfs[(dfs[\"Date\"] >= \"2016-01-01\") & (dfs[\"Date\"] < \"2022-01-01\")].copy()\n",
    "    dfs.set_index(\"Date\", inplace=True)\n",
    "    dfs.sort_index(inplace=True)\n",
    "    dfs.index = pd.to_datetime(dfs.index)\n",
    "    # dfs.dropna(inplace=True)\n",
    "    return dfs.copy()"
   ]
  },
  {
   "cell_type": "code",
   "execution_count": 11,
   "id": "dbfcbe85-1a5f-4385-94f8-d09f2888117c",
   "metadata": {
    "execution": {
     "iopub.execute_input": "2022-04-02T09:52:34.025010Z",
     "iopub.status.busy": "2022-04-02T09:52:34.024456Z",
     "iopub.status.idle": "2022-04-02T09:52:34.110648Z",
     "shell.execute_reply": "2022-04-02T09:52:34.110052Z",
     "shell.execute_reply.started": "2022-04-02T09:52:34.024980Z"
    },
    "tags": []
   },
   "outputs": [
    {
     "name": "stdout",
     "output_type": "stream",
     "text": [
      "1109 1109 1109\n"
     ]
    }
   ],
   "source": [
    "path = \"./data/{}.csv\"\n",
    "df_risk = [path.format(x) for x in interest_rates + currencies + indexes]\n",
    "df_risk = concat_data(df_risk)\n",
    "\n",
    "df_tools = [path.format(x) for x in instruments]\n",
    "df_tools = concat_data(df_tools)\n",
    "\n",
    "common_index = pd.merge(df_risk, df_tools, on=[\"Date\"], how=\"outer\").dropna().index\n",
    "df_risk = df_risk.loc[common_index].copy()\n",
    "df_tools = df_tools.loc[common_index].copy()\n",
    "\n",
    "df = pd.merge(df_risk, df_tools, on=[\"Date\"], how=\"outer\")\n",
    "features_risk = list(df_risk.columns)\n",
    "features_tools = list(df_tools.columns) + currencies\n",
    "print(len(df), len(df_risk), len(df_tools))"
   ]
  },
  {
   "cell_type": "code",
   "execution_count": 12,
   "id": "6937f619-a28b-4de9-a7a5-3efd53a49877",
   "metadata": {
    "execution": {
     "iopub.execute_input": "2022-04-02T09:52:34.253485Z",
     "iopub.status.busy": "2022-04-02T09:52:34.252934Z",
     "iopub.status.idle": "2022-04-02T09:52:34.262366Z",
     "shell.execute_reply": "2022-04-02T09:52:34.261926Z",
     "shell.execute_reply.started": "2022-04-02T09:52:34.253456Z"
    },
    "tags": []
   },
   "outputs": [],
   "source": [
    "train_df = df[df.index <= split_date].pct_change().dropna(axis=0)\n",
    "test_df = df[df.index > split_date].pct_change().dropna(axis=0)\n",
    "all_df = df.pct_change().dropna(axis=0)"
   ]
  },
  {
   "cell_type": "code",
   "execution_count": 81,
   "id": "35aeba63-7128-4bee-8f6d-f07866a98ae0",
   "metadata": {
    "execution": {
     "iopub.execute_input": "2022-04-02T11:18:59.052169Z",
     "iopub.status.busy": "2022-04-02T11:18:59.051683Z",
     "iopub.status.idle": "2022-04-02T11:18:59.062198Z",
     "shell.execute_reply": "2022-04-02T11:18:59.061628Z",
     "shell.execute_reply.started": "2022-04-02T11:18:59.052147Z"
    },
    "tags": []
   },
   "outputs": [],
   "source": [
    "import optuna\n",
    "from sklearn.decomposition import PCA\n",
    "from sklearn.linear_model import LinearRegression\n",
    "from sklearn.metrics import r2_score\n",
    "from sklearn.model_selection import TimeSeriesSplit\n",
    "\n",
    "optuna.logging.set_verbosity(optuna.logging.ERROR)\n",
    "\n",
    "\n",
    "def get_values(x):\n",
    "    if isinstance(x, (pd.DataFrame, pd.Series)):\n",
    "        return x.values\n",
    "    return x\n",
    "\n",
    "\n",
    "class Model:\n",
    "    def __init__(self, n_components=None, pca_args=None, lr_args=None):\n",
    "        self.pca_args = pca_args or {\"random_state\": 42}\n",
    "        self.lr_args = lr_args or {}\n",
    "        self.pca = PCA(n_components, **self.pca_args)\n",
    "        self.lr = LinearRegression(**self.lr_args)\n",
    "\n",
    "    def fit(self, data, target):\n",
    "        data = get_values(data)\n",
    "        target = get_values(target)\n",
    "        data_pca = self.pca.fit_transform(data)\n",
    "        self.lr.fit(data_pca, target)\n",
    "        return self\n",
    "    \n",
    "    def predict_pca(self, data):\n",
    "        data = get_values(data)\n",
    "        return self.pca.transform(data)\n",
    "    \n",
    "    def predict_lr(self, data):\n",
    "        return self.lr.predict(data)\n",
    "\n",
    "    def predict(self, data):\n",
    "        data = get_values(data)\n",
    "        return self.lr.predict(self.pca.transform(data))\n",
    "\n",
    "    def __repr__(self):\n",
    "        return \"{}({}, {})\".format(self.__class__.__name__, self.pca, self.lr)\n",
    "\n",
    "\n",
    "class AutoModel:\n",
    "    def __init__(self, cv_splits=5, n_trials=10, max_components=10, metric=None):\n",
    "        self.splitter = TimeSeriesSplit(cv_splits)\n",
    "        self.study = optuna.study.create_study(sampler=optuna.samplers.TPESampler(seed=42), direction=\"maximize\")\n",
    "        self.metric = metric or r2_score\n",
    "        self.n_trials = n_trials\n",
    "        self.max_components = max_components\n",
    "\n",
    "    def fit(self, data, target):\n",
    "        data = get_values(data)\n",
    "        target = get_values(target)\n",
    "\n",
    "        def objective(trial):\n",
    "            components = trial.suggest_int(\"n_components\", 2, min([self.max_components, *data.shape]))\n",
    "            for t in trial.study.trials:\n",
    "                if t.state != optuna.trial.TrialState.COMPLETE:\n",
    "                    continue\n",
    "                if t.params == trial.params:\n",
    "                    raise optuna.exceptions.TrialPruned(\"Duplicate parameter set\")\n",
    "\n",
    "            scores = []\n",
    "            for train_idx, test_idx in self.splitter.split(data):\n",
    "                model = Model(components)\n",
    "                model.fit(data[train_idx], target[train_idx])\n",
    "                proba = model.predict(data[test_idx])\n",
    "                score = self.metric(target[test_idx], proba)\n",
    "                scores.append(score)\n",
    "            return np.mean(scores)\n",
    "\n",
    "        self.study.optimize(objective, self.n_trials)\n",
    "        return Model(**self.study.best_params).fit(data, target)"
   ]
  },
  {
   "cell_type": "code",
   "execution_count": 82,
   "id": "191f766b-708a-44c6-bf77-62824bced684",
   "metadata": {
    "execution": {
     "iopub.execute_input": "2022-04-02T11:19:00.928326Z",
     "iopub.status.busy": "2022-04-02T11:19:00.927775Z",
     "iopub.status.idle": "2022-04-02T11:19:00.941221Z",
     "shell.execute_reply": "2022-04-02T11:19:00.940673Z",
     "shell.execute_reply.started": "2022-04-02T11:19:00.928299Z"
    },
    "tags": []
   },
   "outputs": [
    {
     "data": {
      "text/plain": [
       "-0.0221256561456525"
      ]
     },
     "execution_count": 82,
     "metadata": {},
     "output_type": "execute_result"
    }
   ],
   "source": [
    "m = Model(3)\n",
    "m.fit(train_df[features_risk], train_df[features_tools])\n",
    "r2_score(test_df[features_tools], m.predict(test_df[features_risk]))"
   ]
  },
  {
   "cell_type": "code",
   "execution_count": 83,
   "id": "ca8c71d6-dc50-4d0b-b743-3e0de07e074b",
   "metadata": {
    "execution": {
     "iopub.execute_input": "2022-04-02T11:19:01.298627Z",
     "iopub.status.busy": "2022-04-02T11:19:01.298091Z",
     "iopub.status.idle": "2022-04-02T11:19:03.750488Z",
     "shell.execute_reply": "2022-04-02T11:19:03.750031Z",
     "shell.execute_reply.started": "2022-04-02T11:19:01.298599Z"
    },
    "tags": []
   },
   "outputs": [
    {
     "data": {
      "text/html": [
       "<div>\n",
       "<style scoped>\n",
       "    .dataframe tbody tr th:only-of-type {\n",
       "        vertical-align: middle;\n",
       "    }\n",
       "\n",
       "    .dataframe tbody tr th {\n",
       "        vertical-align: top;\n",
       "    }\n",
       "\n",
       "    .dataframe thead th {\n",
       "        text-align: right;\n",
       "    }\n",
       "</style>\n",
       "<table border=\"1\" class=\"dataframe\">\n",
       "  <thead>\n",
       "    <tr style=\"text-align: right;\">\n",
       "      <th></th>\n",
       "      <th>tool</th>\n",
       "      <th>n_components</th>\n",
       "      <th>r2_train</th>\n",
       "      <th>r2_test</th>\n",
       "    </tr>\n",
       "  </thead>\n",
       "  <tbody>\n",
       "    <tr>\n",
       "      <th>0</th>\n",
       "      <td>APTK</td>\n",
       "      <td>5</td>\n",
       "      <td>0.030125</td>\n",
       "      <td>-0.045158</td>\n",
       "    </tr>\n",
       "    <tr>\n",
       "      <th>1</th>\n",
       "      <td>BELU</td>\n",
       "      <td>2</td>\n",
       "      <td>0.011270</td>\n",
       "      <td>-0.007362</td>\n",
       "    </tr>\n",
       "    <tr>\n",
       "      <th>2</th>\n",
       "      <td>FESH</td>\n",
       "      <td>5</td>\n",
       "      <td>0.093600</td>\n",
       "      <td>-0.058240</td>\n",
       "    </tr>\n",
       "    <tr>\n",
       "      <th>3</th>\n",
       "      <td>MVID</td>\n",
       "      <td>2</td>\n",
       "      <td>0.010595</td>\n",
       "      <td>-0.026952</td>\n",
       "    </tr>\n",
       "    <tr>\n",
       "      <th>4</th>\n",
       "      <td>NKNCP</td>\n",
       "      <td>5</td>\n",
       "      <td>0.050597</td>\n",
       "      <td>0.043962</td>\n",
       "    </tr>\n",
       "    <tr>\n",
       "      <th>5</th>\n",
       "      <td>PHOR</td>\n",
       "      <td>9</td>\n",
       "      <td>0.140284</td>\n",
       "      <td>0.006302</td>\n",
       "    </tr>\n",
       "    <tr>\n",
       "      <th>6</th>\n",
       "      <td>PIKK</td>\n",
       "      <td>2</td>\n",
       "      <td>0.029648</td>\n",
       "      <td>0.000659</td>\n",
       "    </tr>\n",
       "    <tr>\n",
       "      <th>7</th>\n",
       "      <td>RASP</td>\n",
       "      <td>5</td>\n",
       "      <td>0.162794</td>\n",
       "      <td>0.006060</td>\n",
       "    </tr>\n",
       "    <tr>\n",
       "      <th>8</th>\n",
       "      <td>SELG</td>\n",
       "      <td>2</td>\n",
       "      <td>0.032428</td>\n",
       "      <td>0.009306</td>\n",
       "    </tr>\n",
       "    <tr>\n",
       "      <th>9</th>\n",
       "      <td>SNGSP</td>\n",
       "      <td>9</td>\n",
       "      <td>0.160947</td>\n",
       "      <td>-0.091917</td>\n",
       "    </tr>\n",
       "    <tr>\n",
       "      <th>10</th>\n",
       "      <td>OFZ_26207</td>\n",
       "      <td>9</td>\n",
       "      <td>0.852326</td>\n",
       "      <td>0.710332</td>\n",
       "    </tr>\n",
       "    <tr>\n",
       "      <th>11</th>\n",
       "      <td>OFZ_26209</td>\n",
       "      <td>5</td>\n",
       "      <td>0.513229</td>\n",
       "      <td>-1.806175</td>\n",
       "    </tr>\n",
       "    <tr>\n",
       "      <th>12</th>\n",
       "      <td>OFZ_26211</td>\n",
       "      <td>5</td>\n",
       "      <td>0.561310</td>\n",
       "      <td>-0.499484</td>\n",
       "    </tr>\n",
       "    <tr>\n",
       "      <th>13</th>\n",
       "      <td>OFZ_26212</td>\n",
       "      <td>8</td>\n",
       "      <td>0.868009</td>\n",
       "      <td>0.719628</td>\n",
       "    </tr>\n",
       "    <tr>\n",
       "      <th>14</th>\n",
       "      <td>OFZ_26218</td>\n",
       "      <td>10</td>\n",
       "      <td>0.880211</td>\n",
       "      <td>0.822877</td>\n",
       "    </tr>\n",
       "    <tr>\n",
       "      <th>15</th>\n",
       "      <td>USD</td>\n",
       "      <td>10</td>\n",
       "      <td>0.953873</td>\n",
       "      <td>0.925201</td>\n",
       "    </tr>\n",
       "    <tr>\n",
       "      <th>16</th>\n",
       "      <td>CHF</td>\n",
       "      <td>10</td>\n",
       "      <td>0.948729</td>\n",
       "      <td>0.908570</td>\n",
       "    </tr>\n",
       "  </tbody>\n",
       "</table>\n",
       "</div>"
      ],
      "text/plain": [
       "         tool  n_components  r2_train   r2_test\n",
       "0        APTK             5  0.030125 -0.045158\n",
       "1        BELU             2  0.011270 -0.007362\n",
       "2        FESH             5  0.093600 -0.058240\n",
       "3        MVID             2  0.010595 -0.026952\n",
       "4       NKNCP             5  0.050597  0.043962\n",
       "5        PHOR             9  0.140284  0.006302\n",
       "6        PIKK             2  0.029648  0.000659\n",
       "7        RASP             5  0.162794  0.006060\n",
       "8        SELG             2  0.032428  0.009306\n",
       "9       SNGSP             9  0.160947 -0.091917\n",
       "10  OFZ_26207             9  0.852326  0.710332\n",
       "11  OFZ_26209             5  0.513229 -1.806175\n",
       "12  OFZ_26211             5  0.561310 -0.499484\n",
       "13  OFZ_26212             8  0.868009  0.719628\n",
       "14  OFZ_26218            10  0.880211  0.822877\n",
       "15        USD            10  0.953873  0.925201\n",
       "16        CHF            10  0.948729  0.908570"
      ]
     },
     "execution_count": 83,
     "metadata": {},
     "output_type": "execute_result"
    }
   ],
   "source": [
    "results = []\n",
    "instrument_models = {}\n",
    "\n",
    "for f in features_tools:\n",
    "    m = AutoModel().fit(train_df[features_risk], train_df[f])\n",
    "    score = m.predict(train_df[features_risk])\n",
    "    score_test = m.predict(test_df[features_risk])\n",
    "    results.append({\n",
    "        'tool': f,\n",
    "        'n_components': m.pca.n_components,\n",
    "        'r2_train': r2_score(train_df[f], score), \n",
    "        'r2_test': r2_score(test_df[f], score_test),\n",
    "    })\n",
    "    instrument_models[f] = m\n",
    "results = pd.DataFrame(results)\n",
    "results"
   ]
  },
  {
   "cell_type": "code",
   "execution_count": 174,
   "id": "ab887afc-da68-44ba-ac41-c66085757d92",
   "metadata": {
    "execution": {
     "iopub.execute_input": "2022-04-02T12:25:43.745170Z",
     "iopub.status.busy": "2022-04-02T12:25:43.744630Z",
     "iopub.status.idle": "2022-04-02T12:25:43.752842Z",
     "shell.execute_reply": "2022-04-02T12:25:43.752416Z",
     "shell.execute_reply.started": "2022-04-02T12:25:43.745146Z"
    },
    "tags": []
   },
   "outputs": [],
   "source": [
    "import copy\n",
    "\n",
    "class Instrument:\n",
    "    def __init__(self, name, count, price):\n",
    "        self.name = name\n",
    "        self.cnt = count\n",
    "        self.price = price\n",
    "\n",
    "    @property\n",
    "    def cost(self):\n",
    "        return self.price * self.cnt\n",
    "\n",
    "    def __repr__(self):\n",
    "        return \"{}({} x {})\".format(self.name, self.cnt, self.price)\n",
    "\n",
    "\n",
    "class Portfolio:\n",
    "    def __init__(self, tools_with_money, init_prices):\n",
    "        total = sum(tools_with_money.values())\n",
    "        self.tools_target = {k: v / total for k, v in tools_with_money.items()}\n",
    "        self.tools = {\n",
    "            k: Instrument(k, tools_with_money[k] / init_prices[k], init_prices[k]) for k, v in self.tools_target.items()\n",
    "        }\n",
    "\n",
    "    @property\n",
    "    def cost(self):\n",
    "        return sum([x.cost for x in self.tools.values()])\n",
    "\n",
    "    def _tool_rate(self):\n",
    "        total_cost = self.cost\n",
    "        return {k: v.cost / total_cost for k, v in self.tools.items()}\n",
    "\n",
    "    def __getitem__(self, k):\n",
    "        return self.tools[k]\n",
    "\n",
    "    def rebalancing(self, new_prices):\n",
    "        old_cost = self.cost\n",
    "        old_prices = {k: self[k].price for k in self.tools}\n",
    "        for k, p in new_prices.items():\n",
    "            self[k].price = p\n",
    "        new_cost = self.cost\n",
    "        for k in self.tools:\n",
    "            self[k].cnt *= new_cost / old_cost * old_prices[k] / new_prices[k]\n",
    "\n",
    "        for k, v in self._tool_rate().items():\n",
    "            assert np.abs(v - self.tools_target[k]) < 0.00001\n",
    "\n",
    "    def new_cost(self, new_prices):\n",
    "        new_cost = sum([v.cnt * new_prices[k] for k, v in self.tools.items()])\n",
    "        return new_cost\n",
    "            \n",
    "    def copy(self):\n",
    "        return copy.deepcopy(self)"
   ]
  },
  {
   "cell_type": "code",
   "execution_count": 56,
   "id": "eab66f4d-1a32-4f04-986e-faca81e5a366",
   "metadata": {
    "execution": {
     "iopub.execute_input": "2022-04-02T10:47:46.883369Z",
     "iopub.status.busy": "2022-04-02T10:47:46.882761Z",
     "iopub.status.idle": "2022-04-02T10:47:47.375264Z",
     "shell.execute_reply": "2022-04-02T10:47:47.374574Z",
     "shell.execute_reply.started": "2022-04-02T10:47:46.883338Z"
    },
    "tags": []
   },
   "outputs": [
    {
     "data": {
      "application/vnd.jupyter.widget-view+json": {
       "model_id": "7b7c85d6a87a460fbe92faa903cf5512",
       "version_major": 2,
       "version_minor": 0
      },
      "text/plain": [
       "  0%|          | 0/1109 [00:00<?, ?it/s]"
      ]
     },
     "metadata": {},
     "output_type": "display_data"
    }
   ],
   "source": [
    "init_tools = {\n",
    "    \"APTK\": 1_000_000,\n",
    "    \"BELU\": 1_000_000,\n",
    "    \"FESH\": 1_000_000,\n",
    "    \"MVID\": 1_000_000,\n",
    "    \"NKNCP\": 1_000_000,\n",
    "    \"PHOR\": 1_000_000,\n",
    "    \"PIKK\": 1_000_000,\n",
    "    \"RASP\": 1_000_000,\n",
    "    \"SELG\": 1_000_000,\n",
    "    \"SNGSP\": 1_000_000,\n",
    "    \"OFZ_26207\": 10_000_000,\n",
    "    \"OFZ_26209\": 10_000_000,\n",
    "    \"OFZ_26211\": 10_000_000,\n",
    "    \"OFZ_26212\": 10_000_000,\n",
    "    \"OFZ_26218\": 10_000_000,\n",
    "    \"USD\": 10_000_000,\n",
    "    \"CHF\": 10_000_000,\n",
    "}\n",
    "p = Portfolio(init_tools, df.iloc[0][features_tools].to_dict())\n",
    "portfolio_prices = []\n",
    "for i, row in tqdm(df.iterrows(), total=len(df)):\n",
    "    p.rebalancing(row[features_tools].to_dict())\n",
    "    portfolio_prices.append({\n",
    "        'date': i,\n",
    "        'price': p.cost,\n",
    "    })\n",
    "portfolio_prices = pd.DataFrame(portfolio_prices)"
   ]
  },
  {
   "cell_type": "code",
   "execution_count": 63,
   "id": "12e7d15c-c110-4159-bee2-9da93a084c76",
   "metadata": {
    "execution": {
     "iopub.execute_input": "2022-04-02T10:50:12.801499Z",
     "iopub.status.busy": "2022-04-02T10:50:12.800964Z",
     "iopub.status.idle": "2022-04-02T10:50:12.945313Z",
     "shell.execute_reply": "2022-04-02T10:50:12.944886Z",
     "shell.execute_reply.started": "2022-04-02T10:50:12.801475Z"
    },
    "tags": []
   },
   "outputs": [
    {
     "data": {
      "image/png": "[encoded data removed]",
      "text/plain": [
       "<Figure size 1152x432 with 1 Axes>"
      ]
     },
     "metadata": {
      "needs_background": "light"
     },
     "output_type": "display_data"
    }
   ],
   "source": [
    "portfolio_prices.plot(x='date', y='price', figsize=(16, 6))\n",
    "plt.grid()\n",
    "plt.title('Динамика стоимости портфеля')\n",
    "plt.show()"
   ]
  },
  {
   "cell_type": "code",
   "execution_count": 66,
   "id": "853e0f0a-67c7-44b1-ac2b-eab73ce6f561",
   "metadata": {
    "execution": {
     "iopub.execute_input": "2022-04-02T10:52:47.923181Z",
     "iopub.status.busy": "2022-04-02T10:52:47.922626Z",
     "iopub.status.idle": "2022-04-02T10:52:48.097580Z",
     "shell.execute_reply": "2022-04-02T10:52:48.097106Z",
     "shell.execute_reply.started": "2022-04-02T10:52:47.923156Z"
    },
    "tags": []
   },
   "outputs": [
    {
     "data": {
      "image/png": "[encoded data removed]",
      "text/plain": [
       "<Figure size 1152x432 with 1 Axes>"
      ]
     },
     "metadata": {
      "needs_background": "light"
     },
     "output_type": "display_data"
    }
   ],
   "source": [
    "portfolio_prices['price_change'] = portfolio_prices['price'].pct_change()\n",
    "portfolio_prices.dropna(axis=0).plot(x='date', y='price_change', figsize=(16, 6))\n",
    "plt.grid()\n",
    "plt.title('Динамика изменений стоимости портфеля')\n",
    "plt.show()"
   ]
  },
  {
   "cell_type": "code",
   "execution_count": 87,
   "id": "7d1709b6-5b22-4f72-92df-53bb23acf5f7",
   "metadata": {
    "execution": {
     "iopub.execute_input": "2022-04-02T11:19:53.624287Z",
     "iopub.status.busy": "2022-04-02T11:19:53.623755Z",
     "iopub.status.idle": "2022-04-02T11:19:53.628369Z",
     "shell.execute_reply": "2022-04-02T11:19:53.627910Z",
     "shell.execute_reply.started": "2022-04-02T11:19:53.624262Z"
    },
    "tags": []
   },
   "outputs": [],
   "source": [
    "def get_step_simulations(data, t, rounds=1000, random_state=42):\n",
    "    \"\"\"\n",
    "    Симуляция процентного приращения риск-фактора на t шагов вперед\n",
    "    \"\"\"\n",
    "    rnd = np.random.RandomState(random_state)\n",
    "    corr_matrix = np.linalg.cholesky(np.corrcoef(data, rowvar=False))\n",
    "    rnd_vec = (\n",
    "        corr_matrix\n",
    "        @ np.cumsum(np.sqrt(1 / t) * rnd.normal(loc=0, scale=1, size=(data.shape[1], rounds, t)), axis=2)[:, :, -1]\n",
    "    )\n",
    "    # здесь вычисляется процентное приращение риск-фактора\n",
    "    new_vals = np.exp((data.mean(axis=0) - data.std(axis=0) ** 2 / 2) / t + data.std(axis=0) * rnd_vec.T) - 1\n",
    "    return new_vals"
   ]
  },
  {
   "cell_type": "code",
   "execution_count": 92,
   "id": "20c41d0c-ce7c-4d24-8c09-84dfb2fb8c31",
   "metadata": {
    "execution": {
     "iopub.execute_input": "2022-04-02T11:21:55.770650Z",
     "iopub.status.busy": "2022-04-02T11:21:55.770081Z",
     "iopub.status.idle": "2022-04-02T11:22:09.562062Z",
     "shell.execute_reply": "2022-04-02T11:22:09.561622Z",
     "shell.execute_reply.started": "2022-04-02T11:21:55.770624Z"
    },
    "tags": []
   },
   "outputs": [
    {
     "data": {
      "application/vnd.jupyter.widget-view+json": {
       "model_id": "62e4b1efe16c409b9e83ba97d315e313",
       "version_major": 2,
       "version_minor": 0
      },
      "text/plain": [
       "  0%|          | 0/17 [00:00<?, ?it/s]"
      ]
     },
     "metadata": {},
     "output_type": "display_data"
    }
   ],
   "source": [
    "window_size = 30\n",
    "t = 1\n",
    "\n",
    "instrument_simulations = []\n",
    "for f in tqdm(features_tools, total=len(features_tools)):\n",
    "    m = instrument_models[f]\n",
    "    pca_df = m.predict_pca(all_df[features_risk])\n",
    "    simulations = []\n",
    "    for i in range(len(pca_df) - window_size - t):\n",
    "        pca_sim = get_step_simulations(pca_df[i : i + window_size], t)\n",
    "        simulations.append(m.predict_lr(pca_sim))\n",
    "    instrument_simulations.append(simulations)\n",
    "instrument_simulations = np.array(instrument_simulations)"
   ]
  },
  {
   "cell_type": "code",
   "execution_count": 100,
   "id": "0bcfc3f7-cf19-45fd-ba35-885b68fa5232",
   "metadata": {
    "execution": {
     "iopub.execute_input": "2022-04-02T11:24:50.783717Z",
     "iopub.status.busy": "2022-04-02T11:24:50.783127Z",
     "iopub.status.idle": "2022-04-02T11:24:50.787235Z",
     "shell.execute_reply": "2022-04-02T11:24:50.786702Z",
     "shell.execute_reply.started": "2022-04-02T11:24:50.783691Z"
    }
   },
   "outputs": [
    {
     "data": {
      "text/plain": [
       "(17, 1077, 1000)"
      ]
     },
     "execution_count": 100,
     "metadata": {},
     "output_type": "execute_result"
    }
   ],
   "source": [
    "# кол-во инструментов, кол-во дней, кол-во симуляций\n",
    "instrument_simulations.shape"
   ]
  },
  {
   "cell_type": "code",
   "execution_count": 103,
   "id": "628590a1-2424-4d92-91a6-d125d604d538",
   "metadata": {
    "execution": {
     "iopub.execute_input": "2022-04-02T11:27:26.791428Z",
     "iopub.status.busy": "2022-04-02T11:27:26.790849Z",
     "iopub.status.idle": "2022-04-02T11:27:26.795081Z",
     "shell.execute_reply": "2022-04-02T11:27:26.794558Z",
     "shell.execute_reply.started": "2022-04-02T11:27:26.791404Z"
    },
    "tags": []
   },
   "outputs": [
    {
     "data": {
      "text/plain": [
       "(17, 1000)"
      ]
     },
     "execution_count": 103,
     "metadata": {},
     "output_type": "execute_result"
    }
   ],
   "source": [
    "# симуляции по всем инструментам за конкретный день\n",
    "instrument_simulations[:, 0, :].shape"
   ]
  },
  {
   "cell_type": "code",
   "execution_count": 175,
   "id": "7776b393-c4d0-4b7c-a67a-2d32fe77b7ca",
   "metadata": {
    "execution": {
     "iopub.execute_input": "2022-04-02T12:25:48.816519Z",
     "iopub.status.busy": "2022-04-02T12:25:48.815972Z",
     "iopub.status.idle": "2022-04-02T12:25:56.673749Z",
     "shell.execute_reply": "2022-04-02T12:25:56.673205Z",
     "shell.execute_reply.started": "2022-04-02T12:25:48.816495Z"
    },
    "tags": []
   },
   "outputs": [
    {
     "data": {
      "application/vnd.jupyter.widget-view+json": {
       "model_id": "3f7c8c8a0df348588ec8936f50ce4194",
       "version_major": 2,
       "version_minor": 0
      },
      "text/plain": [
       "  0%|          | 0/1078 [00:00<?, ?it/s]"
      ]
     },
     "metadata": {},
     "output_type": "display_data"
    },
    {
     "ename": "IndexError",
     "evalue": "index 1077 is out of bounds for axis 1 with size 1077",
     "output_type": "error",
     "traceback": [
      "\u001b[0;31m---------------------------------------------------------------------------\u001b[0m",
      "\u001b[0;31mIndexError\u001b[0m                                Traceback (most recent call last)",
      "\u001b[0;32m/tmp/ipykernel_1352/414844666.py\u001b[0m in \u001b[0;36m<module>\u001b[0;34m\u001b[0m\n\u001b[1;32m      5\u001b[0m     \u001b[0mp\u001b[0m \u001b[0;34m=\u001b[0m \u001b[0mPortfolio\u001b[0m\u001b[0;34m(\u001b[0m\u001b[0minit_tools\u001b[0m\u001b[0;34m,\u001b[0m \u001b[0mrow\u001b[0m\u001b[0;34m[\u001b[0m\u001b[0mfeatures_tools\u001b[0m\u001b[0;34m]\u001b[0m\u001b[0;34m.\u001b[0m\u001b[0mto_dict\u001b[0m\u001b[0;34m(\u001b[0m\u001b[0;34m)\u001b[0m\u001b[0;34m)\u001b[0m\u001b[0;34m\u001b[0m\u001b[0;34m\u001b[0m\u001b[0m\n\u001b[1;32m      6\u001b[0m     \u001b[0mp_init\u001b[0m \u001b[0;34m=\u001b[0m \u001b[0mp\u001b[0m\u001b[0;34m.\u001b[0m\u001b[0mcost\u001b[0m\u001b[0;34m\u001b[0m\u001b[0;34m\u001b[0m\u001b[0m\n\u001b[0;32m----> 7\u001b[0;31m     \u001b[0mnew_prices\u001b[0m \u001b[0;34m=\u001b[0m \u001b[0mnp\u001b[0m\u001b[0;34m.\u001b[0m\u001b[0mmultiply\u001b[0m\u001b[0;34m(\u001b[0m\u001b[0minstrument_simulations\u001b[0m\u001b[0;34m[\u001b[0m\u001b[0;34m:\u001b[0m\u001b[0;34m,\u001b[0m \u001b[0mj\u001b[0m\u001b[0;34m,\u001b[0m \u001b[0;34m:\u001b[0m\u001b[0;34m]\u001b[0m\u001b[0;34m.\u001b[0m\u001b[0mT\u001b[0m\u001b[0;34m,\u001b[0m \u001b[0mrow\u001b[0m\u001b[0;34m[\u001b[0m\u001b[0mfeatures_tools\u001b[0m\u001b[0;34m]\u001b[0m\u001b[0;34m.\u001b[0m\u001b[0mvalues\u001b[0m\u001b[0;34m)\u001b[0m \u001b[0;31m# N, tools\u001b[0m\u001b[0;34m\u001b[0m\u001b[0;34m\u001b[0m\u001b[0m\n\u001b[0m\u001b[1;32m      8\u001b[0m     \u001b[0mnew_prices\u001b[0m \u001b[0;34m=\u001b[0m \u001b[0mrow\u001b[0m\u001b[0;34m[\u001b[0m\u001b[0mfeatures_tools\u001b[0m\u001b[0;34m]\u001b[0m\u001b[0;34m.\u001b[0m\u001b[0mvalues\u001b[0m \u001b[0;34m+\u001b[0m \u001b[0mnew_prices\u001b[0m\u001b[0;34m\u001b[0m\u001b[0;34m\u001b[0m\u001b[0m\n\u001b[1;32m      9\u001b[0m     \u001b[0;32mfor\u001b[0m \u001b[0msim\u001b[0m \u001b[0;32min\u001b[0m \u001b[0mnew_prices\u001b[0m\u001b[0;34m:\u001b[0m\u001b[0;34m\u001b[0m\u001b[0;34m\u001b[0m\u001b[0m\n",
      "\u001b[0;31mIndexError\u001b[0m: index 1077 is out of bounds for axis 1 with size 1077"
     ]
    }
   ],
   "source": [
    "portfolio_prices_simulations = []\n",
    "df_ = df.iloc[window_size + t:].copy()\n",
    "for j, (i, row) in tqdm(enumerate(df_.iterrows()), total=len(df_)):\n",
    "    p_sim = []\n",
    "    p = Portfolio(init_tools, row[features_tools].to_dict())\n",
    "    p_init = p.cost\n",
    "    new_prices = np.multiply(instrument_simulations[:, j, :].T, row[features_tools].values) # N, tools\n",
    "    new_prices = row[features_tools].values + new_prices\n",
    "    for sim in new_prices:\n",
    "        p_sim.append(p.new_cost({k: v for k, v in zip(features_tools, sim)}) / p_init - 1)\n",
    "    portfolio_prices_simulations.append({\n",
    "        'date': i,\n",
    "        'price_change': p_sim,\n",
    "    })\n",
    "portfolio_prices_simulations = pd.DataFrame(portfolio_prices_simulations)"
   ]
  },
  {
   "cell_type": "code",
   "execution_count": 176,
   "id": "9f0326c3-b035-4b72-bb51-d07928bc1104",
   "metadata": {
    "execution": {
     "iopub.execute_input": "2022-04-02T12:29:21.309619Z",
     "iopub.status.busy": "2022-04-02T12:29:21.309068Z",
     "iopub.status.idle": "2022-04-02T12:29:21.314025Z",
     "shell.execute_reply": "2022-04-02T12:29:21.313481Z",
     "shell.execute_reply.started": "2022-04-02T12:29:21.309595Z"
    },
    "tags": []
   },
   "outputs": [],
   "source": [
    "portfolio_prices_simulations = pd.DataFrame(portfolio_prices_simulations)"
   ]
  },
  {
   "cell_type": "code",
   "execution_count": 177,
   "id": "8a21d2c7-8f15-4efb-9934-f1524e8f5c31",
   "metadata": {
    "execution": {
     "iopub.execute_input": "2022-04-02T12:29:22.517004Z",
     "iopub.status.busy": "2022-04-02T12:29:22.516461Z",
     "iopub.status.idle": "2022-04-02T12:29:22.647551Z",
     "shell.execute_reply": "2022-04-02T12:29:22.647117Z",
     "shell.execute_reply.started": "2022-04-02T12:29:22.516980Z"
    },
    "tags": []
   },
   "outputs": [],
   "source": [
    "portfolio_prices_simulations['q_99'] = portfolio_prices_simulations['price_change'].map(lambda x: -np.percentile(x, 1))"
   ]
  },
  {
   "cell_type": "code",
   "execution_count": 178,
   "id": "1a39e416-e6cd-48a7-a44e-f83749ff8fc5",
   "metadata": {
    "execution": {
     "iopub.execute_input": "2022-04-02T12:29:23.144311Z",
     "iopub.status.busy": "2022-04-02T12:29:23.143778Z",
     "iopub.status.idle": "2022-04-02T12:29:23.159635Z",
     "shell.execute_reply": "2022-04-02T12:29:23.159245Z",
     "shell.execute_reply.started": "2022-04-02T12:29:23.144286Z"
    },
    "tags": []
   },
   "outputs": [
    {
     "data": {
      "text/html": [
       "<div>\n",
       "<style scoped>\n",
       "    .dataframe tbody tr th:only-of-type {\n",
       "        vertical-align: middle;\n",
       "    }\n",
       "\n",
       "    .dataframe tbody tr th {\n",
       "        vertical-align: top;\n",
       "    }\n",
       "\n",
       "    .dataframe thead th {\n",
       "        text-align: right;\n",
       "    }\n",
       "</style>\n",
       "<table border=\"1\" class=\"dataframe\">\n",
       "  <thead>\n",
       "    <tr style=\"text-align: right;\">\n",
       "      <th></th>\n",
       "      <th>date</th>\n",
       "      <th>price_change</th>\n",
       "      <th>q_99</th>\n",
       "    </tr>\n",
       "  </thead>\n",
       "  <tbody>\n",
       "    <tr>\n",
       "      <th>0</th>\n",
       "      <td>2016-04-20</td>\n",
       "      <td>[-0.008369808709621562, -0.0021400464188542356...</td>\n",
       "      <td>0.013471</td>\n",
       "    </tr>\n",
       "    <tr>\n",
       "      <th>1</th>\n",
       "      <td>2016-04-21</td>\n",
       "      <td>[-0.008586088660216706, -0.0025836044899902877...</td>\n",
       "      <td>0.013298</td>\n",
       "    </tr>\n",
       "    <tr>\n",
       "      <th>2</th>\n",
       "      <td>2016-04-22</td>\n",
       "      <td>[-0.008115959690798258, -0.0023967043074532013...</td>\n",
       "      <td>0.012184</td>\n",
       "    </tr>\n",
       "    <tr>\n",
       "      <th>3</th>\n",
       "      <td>2016-04-26</td>\n",
       "      <td>[-0.009093548626977532, -0.0033930706532229182...</td>\n",
       "      <td>0.012201</td>\n",
       "    </tr>\n",
       "    <tr>\n",
       "      <th>4</th>\n",
       "      <td>2016-04-27</td>\n",
       "      <td>[-0.009153713354962512, -0.0033300837382774784...</td>\n",
       "      <td>0.012107</td>\n",
       "    </tr>\n",
       "    <tr>\n",
       "      <th>...</th>\n",
       "      <td>...</td>\n",
       "      <td>...</td>\n",
       "      <td>...</td>\n",
       "    </tr>\n",
       "    <tr>\n",
       "      <th>1072</th>\n",
       "      <td>2021-12-21</td>\n",
       "      <td>[-0.005316016014031089, -0.0020283895454440426...</td>\n",
       "      <td>0.008554</td>\n",
       "    </tr>\n",
       "    <tr>\n",
       "      <th>1073</th>\n",
       "      <td>2021-12-22</td>\n",
       "      <td>[-0.004511187986898202, -0.0016341161340738264...</td>\n",
       "      <td>0.007394</td>\n",
       "    </tr>\n",
       "    <tr>\n",
       "      <th>1074</th>\n",
       "      <td>2021-12-23</td>\n",
       "      <td>[-0.004395313073301099, -0.0015402113874388723...</td>\n",
       "      <td>0.007208</td>\n",
       "    </tr>\n",
       "    <tr>\n",
       "      <th>1075</th>\n",
       "      <td>2021-12-28</td>\n",
       "      <td>[-0.004370548975205835, -0.001530248208455376,...</td>\n",
       "      <td>0.007130</td>\n",
       "    </tr>\n",
       "    <tr>\n",
       "      <th>1076</th>\n",
       "      <td>2021-12-29</td>\n",
       "      <td>[-0.004354985515979459, -0.0015849993211470847...</td>\n",
       "      <td>0.007105</td>\n",
       "    </tr>\n",
       "  </tbody>\n",
       "</table>\n",
       "<p>1077 rows × 3 columns</p>\n",
       "</div>"
      ],
      "text/plain": [
       "           date                                       price_change      q_99\n",
       "0    2016-04-20  [-0.008369808709621562, -0.0021400464188542356...  0.013471\n",
       "1    2016-04-21  [-0.008586088660216706, -0.0025836044899902877...  0.013298\n",
       "2    2016-04-22  [-0.008115959690798258, -0.0023967043074532013...  0.012184\n",
       "3    2016-04-26  [-0.009093548626977532, -0.0033930706532229182...  0.012201\n",
       "4    2016-04-27  [-0.009153713354962512, -0.0033300837382774784...  0.012107\n",
       "...         ...                                                ...       ...\n",
       "1072 2021-12-21  [-0.005316016014031089, -0.0020283895454440426...  0.008554\n",
       "1073 2021-12-22  [-0.004511187986898202, -0.0016341161340738264...  0.007394\n",
       "1074 2021-12-23  [-0.004395313073301099, -0.0015402113874388723...  0.007208\n",
       "1075 2021-12-28  [-0.004370548975205835, -0.001530248208455376,...  0.007130\n",
       "1076 2021-12-29  [-0.004354985515979459, -0.0015849993211470847...  0.007105\n",
       "\n",
       "[1077 rows x 3 columns]"
      ]
     },
     "execution_count": 178,
     "metadata": {},
     "output_type": "execute_result"
    }
   ],
   "source": [
    "portfolio_prices_simulations"
   ]
  },
  {
   "cell_type": "code",
   "execution_count": null,
   "id": "1e719352-c47e-4d84-b120-0c724f727b2a",
   "metadata": {},
   "outputs": [],
   "source": []
  }
 ],
 "metadata": {
  "kernelspec": {
   "display_name": "Python 3 (ipykernel)",
   "language": "python",
   "name": "python3"
  },
  "language_info": {
   "codemirror_mode": {
    "name": "ipython",
    "version": 3
   },
   "file_extension": ".py",
   "mimetype": "text/x-python",
   "name": "python",
   "nbconvert_exporter": "python",
   "pygments_lexer": "ipython3",
   "version": "3.8.10"
  }
 },
 "nbformat": 4,
 "nbformat_minor": 5
}
