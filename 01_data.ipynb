{
 "cells": [
  {
   "cell_type": "code",
   "execution_count": 1,
   "id": "912d211c-ea59-4a85-a7e9-aa1488ea4c23",
   "metadata": {
    "execution": {
     "iopub.execute_input": "2022-03-27T16:40:14.563502Z",
     "iopub.status.busy": "2022-03-27T16:40:14.563339Z",
     "iopub.status.idle": "2022-03-27T16:40:15.038979Z",
     "shell.execute_reply": "2022-03-27T16:40:15.038434Z",
     "shell.execute_reply.started": "2022-03-27T16:40:14.563454Z"
    },
    "tags": []
   },
   "outputs": [],
   "source": [
    "import datetime\n",
    "import json\n",
    "import os\n",
    "\n",
    "import pandas as pd\n",
    "import tinvest\n",
    "import yfinance as yf\n",
    "from pytz import timezone\n",
    "from tqdm.notebook import tqdm"
   ]
  },
  {
   "cell_type": "code",
   "execution_count": 2,
   "id": "eafd6703-75b0-4045-9ec7-f61f42e34342",
   "metadata": {
    "execution": {
     "iopub.execute_input": "2022-03-27T16:40:15.041642Z",
     "iopub.status.busy": "2022-03-27T16:40:15.039832Z",
     "iopub.status.idle": "2022-03-27T16:40:15.044684Z",
     "shell.execute_reply": "2022-03-27T16:40:15.044183Z",
     "shell.execute_reply.started": "2022-03-27T16:40:15.041618Z"
    },
    "tags": []
   },
   "outputs": [],
   "source": [
    "begin = \"2016-01-01\"\n",
    "end = \"2022-01-01\""
   ]
  },
  {
   "cell_type": "code",
   "execution_count": 3,
   "id": "5d4df701-7ed9-4b5e-903c-b970424f03d5",
   "metadata": {
    "execution": {
     "iopub.execute_input": "2022-03-27T16:40:15.046631Z",
     "iopub.status.busy": "2022-03-27T16:40:15.046119Z",
     "iopub.status.idle": "2022-03-27T16:40:15.051144Z",
     "shell.execute_reply": "2022-03-27T16:40:15.050605Z",
     "shell.execute_reply.started": "2022-03-27T16:40:15.046601Z"
    },
    "tags": []
   },
   "outputs": [],
   "source": [
    "stocks = [\n",
    "    \"FESH.ME\",\n",
    "    \"APTK.ME\",\n",
    "    \"RASP.ME\",\n",
    "    \"NKNCP.ME\",\n",
    "    \"MVID.ME\",\n",
    "    \"BELU.ME\",\n",
    "    \"PHOR.ME\",\n",
    "    \"SNGSP.ME\",\n",
    "    \"SELG.ME\",\n",
    "    \"PIKK.ME\",\n",
    "    \"YNDX.ME\",\n",
    "]\n",
    "indexes = [\"IMOEX.ME\", \"BZ=F\", \"GLD\"]\n",
    "currencies = [\"RUB=X\"]"
   ]
  },
  {
   "cell_type": "code",
   "execution_count": 4,
   "id": "b66a2423-e2ba-44db-ac4d-37802c26d463",
   "metadata": {
    "execution": {
     "iopub.execute_input": "2022-03-27T16:40:15.052370Z",
     "iopub.status.busy": "2022-03-27T16:40:15.051975Z",
     "iopub.status.idle": "2022-03-27T16:40:15.082599Z",
     "shell.execute_reply": "2022-03-27T16:40:15.082121Z",
     "shell.execute_reply.started": "2022-03-27T16:40:15.052347Z"
    },
    "tags": []
   },
   "outputs": [
    {
     "data": {
      "application/vnd.jupyter.widget-view+json": {
       "model_id": "da3aaeff66084a66b1b48c07cd764b1e",
       "version_major": 2,
       "version_minor": 0
      },
      "text/plain": [
       "  0%|          | 0/15 [00:00<?, ?it/s]"
      ]
     },
     "metadata": {},
     "output_type": "display_data"
    }
   ],
   "source": [
    "path = \"./data/{}.csv\"\n",
    "for stock in tqdm(stocks + currencies + indexes):\n",
    "    spath = path.format(stock)\n",
    "    if os.path.exists(spath):\n",
    "        continue\n",
    "    df = yf.download(stock, begin, end)\n",
    "    df.to_csv(spath)"
   ]
  },
  {
   "cell_type": "code",
   "execution_count": 5,
   "id": "5df61a13-c054-42bf-916c-7e8b65734b1f",
   "metadata": {
    "execution": {
     "iopub.execute_input": "2022-03-27T16:40:15.083408Z",
     "iopub.status.busy": "2022-03-27T16:40:15.083281Z",
     "iopub.status.idle": "2022-03-27T16:40:15.236009Z",
     "shell.execute_reply": "2022-03-27T16:40:15.235587Z",
     "shell.execute_reply.started": "2022-03-27T16:40:15.083393Z"
    },
    "tags": []
   },
   "outputs": [],
   "source": [
    "with open(os.path.expanduser('~/.tcs_token'), 'r') as f:\n",
    "    TOKEN = f.read().strip()\n",
    "tz = timezone(\"Europe/Moscow\")\n",
    "client = tinvest.SyncClient(TOKEN, use_sandbox=True)\n",
    "bonds = client.get_market_bonds().payload.instruments\n",
    "bonds = pd.DataFrame([json.loads(x.json()) for x in bonds])\n",
    "curr = client.get_market_currencies().payload.instruments\n",
    "curr = pd.DataFrame([json.loads(x.json()) for x in curr])"
   ]
  },
  {
   "cell_type": "code",
   "execution_count": 6,
   "id": "f89fe5ee-f5ae-48e7-a60c-74ff90100054",
   "metadata": {
    "execution": {
     "iopub.execute_input": "2022-03-27T16:40:15.237046Z",
     "iopub.status.busy": "2022-03-27T16:40:15.236737Z",
     "iopub.status.idle": "2022-03-27T16:40:15.246430Z",
     "shell.execute_reply": "2022-03-27T16:40:15.246040Z",
     "shell.execute_reply.started": "2022-03-27T16:40:15.237028Z"
    },
    "tags": []
   },
   "outputs": [],
   "source": [
    "def get_max_duration(interval):\n",
    "    if interval == tinvest.schemas.CandleResolution.min1:\n",
    "        return datetime.timedelta(days=1)\n",
    "    elif interval == tinvest.schemas.CandleResolution.min2:\n",
    "        return datetime.timedelta(days=1)\n",
    "    elif interval == tinvest.schemas.CandleResolution.min3:\n",
    "        return datetime.timedelta(days=1)\n",
    "    elif interval == tinvest.schemas.CandleResolution.min5:\n",
    "        return datetime.timedelta(days=1)\n",
    "    elif interval == tinvest.schemas.CandleResolution.min10:\n",
    "        return datetime.timedelta(days=1)\n",
    "    elif interval == tinvest.schemas.CandleResolution.min15:\n",
    "        return datetime.timedelta(days=1)\n",
    "    elif interval == tinvest.schemas.CandleResolution.min30:\n",
    "        return datetime.timedelta(days=1)\n",
    "    elif interval == tinvest.schemas.CandleResolution.hour:\n",
    "        return datetime.timedelta(days=7)\n",
    "    elif interval == tinvest.schemas.CandleResolution.day:\n",
    "        return datetime.timedelta(days=365)\n",
    "    elif interval == tinvest.schemas.CandleResolution.week:\n",
    "        return datetime.timedelta(days=365 * 2)\n",
    "    elif interval == tinvest.schemas.CandleResolution.month:\n",
    "        return datetime.timedelta(days=365 * 10)\n",
    "    raise ValueError(\"unknown interval value {}\".format(interval))\n",
    "\n",
    "\n",
    "def get_candles(client, figi, from_=None, to_=None, *, interval):\n",
    "    if to_ is None:\n",
    "        to_ = datetime.now(tz=timezone(\"Europe/Moscow\"))\n",
    "    result = []\n",
    "    duration = get_max_duration(interval)\n",
    "    d2 = to_\n",
    "    d1 = d2 - duration\n",
    "    if from_ is not None and d1 < from_:\n",
    "        d1 = from_\n",
    "    while True:\n",
    "        r = client.get_market_candles(figi, d1, d2, interval)\n",
    "        result.extend(r.payload.candles)\n",
    "        d2 = d1\n",
    "        d1 -= duration\n",
    "        if (from_ is not None and d2 < from_) or len(r.payload.candles) == 0:\n",
    "            break\n",
    "    result = pd.DataFrame([json.loads(x.json()) for x in result])\n",
    "    result[\"time\"] = pd.to_datetime(result[\"time\"]).dt.tz_convert(tz)\n",
    "    result = result.sort_values(\"time\").reset_index(drop=True)\n",
    "    result[\"Adj Close\"] = result[\"c\"]\n",
    "    result[\"Date\"] = pd.to_datetime(result[\"time\"].dt.date)\n",
    "    result = result.set_index(\"Date\")\n",
    "    return result[[\"Adj Close\"]]"
   ]
  },
  {
   "cell_type": "markdown",
   "id": "6a68a15c-23a5-47b8-a6be-02ace2305f3e",
   "metadata": {},
   "source": [
    "# ОФЗ 26207\n",
    "RU000A0JS3W6 SU26207RMFS9 BBG002PD3452\n",
    "https://www.tinkoff.ru/invest/bonds/SU26207RMFS9/coupons/\n",
    "\n",
    "# ОФЗ 26209\n",
    "RU000A0JSMA2 SU26209RMFS5 BBG00386NQK6\n",
    "https://www.tinkoff.ru/invest/bonds/SU26209RMFS5/coupons/\n",
    "\n",
    "# ОФЗ 26218\n",
    "RU000A0JVW48 SU26218RMFS6 BBG00B9PJ7V0\n",
    "https://www.tinkoff.ru/invest/bonds/SU26218RMFS6/coupons/\n",
    "\n",
    "# ОФЗ 26211\n",
    "\n",
    "RU000A0JTJL3 SU26211RMFS1 BBG003TTSBB1\n",
    "https://www.tinkoff.ru/invest/bonds/SU26211RMFS1/coupons/\n",
    "# ОФЗ 26212\n",
    "\n",
    "RU000A0JTK38 SU26212RMFS9 BBG00425VG07\n",
    "https://www.tinkoff.ru/invest/bonds/SU26212RMFS9/coupons/"
   ]
  },
  {
   "cell_type": "code",
   "execution_count": 7,
   "id": "88b15580-3f2c-4188-b956-515ff4a09085",
   "metadata": {
    "execution": {
     "iopub.execute_input": "2022-03-27T16:40:15.247396Z",
     "iopub.status.busy": "2022-03-27T16:40:15.247079Z",
     "iopub.status.idle": "2022-03-27T16:40:15.267471Z",
     "shell.execute_reply": "2022-03-27T16:40:15.267070Z",
     "shell.execute_reply.started": "2022-03-27T16:40:15.247377Z"
    },
    "tags": []
   },
   "outputs": [
    {
     "data": {
      "text/html": [
       "<div>\n",
       "<style scoped>\n",
       "    .dataframe tbody tr th:only-of-type {\n",
       "        vertical-align: middle;\n",
       "    }\n",
       "\n",
       "    .dataframe tbody tr th {\n",
       "        vertical-align: top;\n",
       "    }\n",
       "\n",
       "    .dataframe thead th {\n",
       "        text-align: right;\n",
       "    }\n",
       "</style>\n",
       "<table border=\"1\" class=\"dataframe\">\n",
       "  <thead>\n",
       "    <tr style=\"text-align: right;\">\n",
       "      <th></th>\n",
       "      <th>currency</th>\n",
       "      <th>figi</th>\n",
       "      <th>isin</th>\n",
       "      <th>lot</th>\n",
       "      <th>min_price_increment</th>\n",
       "      <th>name</th>\n",
       "      <th>ticker</th>\n",
       "      <th>type</th>\n",
       "      <th>min_quantity</th>\n",
       "    </tr>\n",
       "  </thead>\n",
       "  <tbody>\n",
       "    <tr>\n",
       "      <th>102</th>\n",
       "      <td>RUB</td>\n",
       "      <td>BBG00B9PJ7V0</td>\n",
       "      <td>RU000A0JVW48</td>\n",
       "      <td>1</td>\n",
       "      <td>0.01</td>\n",
       "      <td>ОФЗ 26218</td>\n",
       "      <td>SU26218RMFS6</td>\n",
       "      <td>Bond</td>\n",
       "      <td>NaN</td>\n",
       "    </tr>\n",
       "    <tr>\n",
       "      <th>131</th>\n",
       "      <td>RUB</td>\n",
       "      <td>BBG002PD3452</td>\n",
       "      <td>RU000A0JS3W6</td>\n",
       "      <td>1</td>\n",
       "      <td>0.01</td>\n",
       "      <td>ОФЗ 26207</td>\n",
       "      <td>SU26207RMFS9</td>\n",
       "      <td>Bond</td>\n",
       "      <td>NaN</td>\n",
       "    </tr>\n",
       "    <tr>\n",
       "      <th>149</th>\n",
       "      <td>RUB</td>\n",
       "      <td>BBG00425VG07</td>\n",
       "      <td>RU000A0JTK38</td>\n",
       "      <td>1</td>\n",
       "      <td>0.01</td>\n",
       "      <td>ОФЗ 26212</td>\n",
       "      <td>SU26212RMFS9</td>\n",
       "      <td>Bond</td>\n",
       "      <td>NaN</td>\n",
       "    </tr>\n",
       "    <tr>\n",
       "      <th>383</th>\n",
       "      <td>RUB</td>\n",
       "      <td>BBG003TTSBB1</td>\n",
       "      <td>RU000A0JTJL3</td>\n",
       "      <td>1</td>\n",
       "      <td>0.01</td>\n",
       "      <td>ОФЗ 26211</td>\n",
       "      <td>SU26211RMFS1</td>\n",
       "      <td>Bond</td>\n",
       "      <td>NaN</td>\n",
       "    </tr>\n",
       "    <tr>\n",
       "      <th>602</th>\n",
       "      <td>RUB</td>\n",
       "      <td>BBG00386NQK6</td>\n",
       "      <td>RU000A0JSMA2</td>\n",
       "      <td>1</td>\n",
       "      <td>0.01</td>\n",
       "      <td>ОФЗ 26209</td>\n",
       "      <td>SU26209RMFS5</td>\n",
       "      <td>Bond</td>\n",
       "      <td>NaN</td>\n",
       "    </tr>\n",
       "  </tbody>\n",
       "</table>\n",
       "</div>"
      ],
      "text/plain": [
       "    currency          figi          isin  lot  min_price_increment       name  \\\n",
       "102      RUB  BBG00B9PJ7V0  RU000A0JVW48    1                 0.01  ОФЗ 26218   \n",
       "131      RUB  BBG002PD3452  RU000A0JS3W6    1                 0.01  ОФЗ 26207   \n",
       "149      RUB  BBG00425VG07  RU000A0JTK38    1                 0.01  ОФЗ 26212   \n",
       "383      RUB  BBG003TTSBB1  RU000A0JTJL3    1                 0.01  ОФЗ 26211   \n",
       "602      RUB  BBG00386NQK6  RU000A0JSMA2    1                 0.01  ОФЗ 26209   \n",
       "\n",
       "           ticker  type  min_quantity  \n",
       "102  SU26218RMFS6  Bond           NaN  \n",
       "131  SU26207RMFS9  Bond           NaN  \n",
       "149  SU26212RMFS9  Bond           NaN  \n",
       "383  SU26211RMFS1  Bond           NaN  \n",
       "602  SU26209RMFS5  Bond           NaN  "
      ]
     },
     "execution_count": 7,
     "metadata": {},
     "output_type": "execute_result"
    }
   ],
   "source": [
    "bond_list = [\"RU000A0JS3W6\", \"RU000A0JSMA2\", \"RU000A0JVW48\", \"RU000A0JTJL3\", \"RU000A0JTK38\"]\n",
    "bonds[bonds[\"isin\"].isin(bond_list)]"
   ]
  },
  {
   "cell_type": "code",
   "execution_count": 8,
   "id": "ec1b4af7-71a1-4ec0-8cc3-7d8155425ebb",
   "metadata": {
    "execution": {
     "iopub.execute_input": "2022-03-27T16:40:15.268331Z",
     "iopub.status.busy": "2022-03-27T16:40:15.268135Z",
     "iopub.status.idle": "2022-03-27T16:40:15.271087Z",
     "shell.execute_reply": "2022-03-27T16:40:15.270698Z",
     "shell.execute_reply.started": "2022-03-27T16:40:15.268313Z"
    },
    "tags": []
   },
   "outputs": [],
   "source": [
    "begin_ = datetime.datetime.strptime(begin, \"%Y-%m-%d\")\n",
    "end_ = datetime.datetime.strptime(end, \"%Y-%m-%d\")"
   ]
  },
  {
   "cell_type": "code",
   "execution_count": 9,
   "id": "7b462083-2069-4d3d-aa68-52fcd5b7958e",
   "metadata": {
    "execution": {
     "iopub.execute_input": "2022-03-27T16:40:15.271924Z",
     "iopub.status.busy": "2022-03-27T16:40:15.271779Z",
     "iopub.status.idle": "2022-03-27T16:40:15.276338Z",
     "shell.execute_reply": "2022-03-27T16:40:15.275873Z",
     "shell.execute_reply.started": "2022-03-27T16:40:15.271905Z"
    }
   },
   "outputs": [],
   "source": [
    "path = \"./data/{}.csv\"\n",
    "for _, row in bonds[bonds[\"isin\"].isin(bond_list)].iterrows():\n",
    "    spath = path.format(row[\"isin\"])\n",
    "    if os.path.exists(spath):\n",
    "        continue\n",
    "    df = get_candles(client, row[\"figi\"], begin_, end_, interval=tinvest.schemas.CandleResolution.day)\n",
    "    df.to_csv(spath)"
   ]
  },
  {
   "cell_type": "code",
   "execution_count": 10,
   "id": "6b7adb70-8c7b-4a8a-b259-008a3be93fd6",
   "metadata": {
    "execution": {
     "iopub.execute_input": "2022-03-27T16:40:15.277148Z",
     "iopub.status.busy": "2022-03-27T16:40:15.276967Z",
     "iopub.status.idle": "2022-03-27T16:40:15.698502Z",
     "shell.execute_reply": "2022-03-27T16:40:15.697967Z",
     "shell.execute_reply.started": "2022-03-27T16:40:15.277133Z"
    },
    "tags": []
   },
   "outputs": [],
   "source": [
    "df = pd.read_html(\"./data/cbr.html\", encoding=\"utf8\")[0]\n",
    "df = df.droplevel(0, \"columns\").rename(columns={\"Дата\": \"Date\"})\n",
    "df[\"Date\"] = pd.to_datetime(df[\"Date\"], format=\"%d.%m.%Y\")\n",
    "df = df.set_index(\"Date\").astype(float)\n",
    "df.columns = [float(x.replace(\",\", \".\")) for x in df.columns]\n",
    "df /= 100\n",
    "df.to_csv(\"./data/cbr.csv\")"
   ]
  },
  {
   "cell_type": "code",
   "execution_count": null,
   "id": "cce0a84f-c5a7-48fc-8179-cf99c254ae28",
   "metadata": {},
   "outputs": [],
   "source": []
  }
 ],
 "metadata": {
  "kernelspec": {
   "display_name": "Python 3 (ipykernel)",
   "language": "python",
   "name": "python3"
  },
  "language_info": {
   "codemirror_mode": {
    "name": "ipython",
    "version": 3
   },
   "file_extension": ".py",
   "mimetype": "text/x-python",
   "name": "python",
   "nbconvert_exporter": "python",
   "pygments_lexer": "ipython3",
   "version": "3.8.10"
  }
 },
 "nbformat": 4,
 "nbformat_minor": 5
}
