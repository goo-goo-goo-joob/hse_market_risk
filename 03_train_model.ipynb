{
 "cells": [
  {
   "cell_type": "markdown",
   "id": "d558d990-33e5-4406-a528-803584157e2b",
   "metadata": {},
   "source": [
    "В данном ноутбуке реализован подбор оптимального кол-ва PCA для каждого инструмента с помощью библиотеки optuna\n",
    "\n",
    "Также по каждому инструменту обучается своя модель линейной регрессии для переода приращений риск-факторов в приращения инструмента"
   ]
  },
  {
   "cell_type": "code",
   "execution_count": 1,
   "id": "740f86da-88e7-46ef-8012-c841b6f1edfb",
   "metadata": {
    "execution": {
     "iopub.execute_input": "2022-04-02T09:49:51.716180Z",
     "iopub.status.busy": "2022-04-02T09:49:51.716003Z",
     "iopub.status.idle": "2022-04-02T09:49:52.763846Z",
     "shell.execute_reply": "2022-04-02T09:49:52.763403Z",
     "shell.execute_reply.started": "2022-04-02T09:49:51.716123Z"
    },
    "tags": []
   },
   "outputs": [],
   "source": [
    "import os\n",
    "\n",
    "import matplotlib.dates as mdates\n",
    "import matplotlib.pyplot as plt\n",
    "import numpy as np\n",
    "import pandas as pd\n",
    "from sklearn.decomposition import PCA\n",
    "from tqdm.notebook import tqdm"
   ]
  },
  {
   "cell_type": "code",
   "execution_count": 2,
   "id": "e9677ed5-da59-4a10-8a8e-5abba87b75d5",
   "metadata": {
    "execution": {
     "iopub.execute_input": "2022-04-02T09:49:52.764708Z",
     "iopub.status.busy": "2022-04-02T09:49:52.764537Z",
     "iopub.status.idle": "2022-04-02T09:49:52.767124Z",
     "shell.execute_reply": "2022-04-02T09:49:52.766750Z",
     "shell.execute_reply.started": "2022-04-02T09:49:52.764692Z"
    },
    "tags": []
   },
   "outputs": [],
   "source": [
    "# Обучение проводим включительно по эту дату\n",
    "split_date = \"2020-12-30\""
   ]
  },
  {
   "cell_type": "code",
   "execution_count": 3,
   "id": "6c40cf46-455a-477a-a2f7-30354d8ea1e0",
   "metadata": {
    "execution": {
     "iopub.execute_input": "2022-04-02T09:49:52.768423Z",
     "iopub.status.busy": "2022-04-02T09:49:52.768100Z",
     "iopub.status.idle": "2022-04-02T09:49:52.772677Z",
     "shell.execute_reply": "2022-04-02T09:49:52.772288Z",
     "shell.execute_reply.started": "2022-04-02T09:49:52.768405Z"
    },
    "tags": []
   },
   "outputs": [],
   "source": [
    "interest_rates = [\"cbr_g_curve\"]\n",
    "currencies = [\"USD\", \"CHF\"]\n",
    "indexes = [\"BRENT\", \"GOLD\", \"IMOEX\", \"RTSI\"]\n",
    "instruments = [\n",
    "    \"APTK\",\n",
    "    \"BELU\",\n",
    "    \"FESH\",\n",
    "    \"MVID\",\n",
    "    \"NKNCP\",\n",
    "    \"PHOR\",\n",
    "    \"PIKK\",\n",
    "    \"RASP\",\n",
    "    \"SELG\",\n",
    "    \"SNGSP\",\n",
    "    # \"YNDX\",\n",
    "    \"OFZ_26207\",\n",
    "    \"OFZ_26209\",\n",
    "    \"OFZ_26211\",\n",
    "    \"OFZ_26212\",\n",
    "    \"OFZ_26218\",\n",
    "]"
   ]
  },
  {
   "cell_type": "code",
   "execution_count": 4,
   "id": "83f565b5-d52f-40b5-860d-13c4b1c451a0",
   "metadata": {
    "execution": {
     "iopub.execute_input": "2022-04-02T09:49:52.773417Z",
     "iopub.status.busy": "2022-04-02T09:49:52.773288Z",
     "iopub.status.idle": "2022-04-02T09:49:52.777840Z",
     "shell.execute_reply": "2022-04-02T09:49:52.777415Z",
     "shell.execute_reply.started": "2022-04-02T09:49:52.773403Z"
    },
    "tags": []
   },
   "outputs": [],
   "source": [
    "def concat_data(files):\n",
    "    df = []\n",
    "    for file in files:\n",
    "        df.append(pd.read_csv(file))\n",
    "    dfs = df[0]\n",
    "    for x in df[1:]:\n",
    "        dfs = pd.merge(dfs, x, on=[\"Date\"], how=\"outer\")\n",
    "\n",
    "    dfs = dfs[(dfs[\"Date\"] >= \"2016-01-01\") & (dfs[\"Date\"] < \"2022-01-01\")].copy()\n",
    "    dfs.set_index(\"Date\", inplace=True)\n",
    "    dfs.sort_index(inplace=True)\n",
    "    dfs.index = pd.to_datetime(dfs.index)\n",
    "    # dfs.dropna(inplace=True)\n",
    "    return dfs.copy()"
   ]
  },
  {
   "cell_type": "code",
   "execution_count": 5,
   "id": "dbfcbe85-1a5f-4385-94f8-d09f2888117c",
   "metadata": {
    "execution": {
     "iopub.execute_input": "2022-04-02T09:49:52.778602Z",
     "iopub.status.busy": "2022-04-02T09:49:52.778466Z",
     "iopub.status.idle": "2022-04-02T09:49:52.869342Z",
     "shell.execute_reply": "2022-04-02T09:49:52.868882Z",
     "shell.execute_reply.started": "2022-04-02T09:49:52.778587Z"
    },
    "tags": []
   },
   "outputs": [
    {
     "name": "stdout",
     "output_type": "stream",
     "text": [
      "1109 1109 1109\n"
     ]
    }
   ],
   "source": [
    "path = \"./data/{}.csv\"\n",
    "df_risk = [path.format(x) for x in interest_rates + currencies + indexes]\n",
    "df_risk = concat_data(df_risk)\n",
    "\n",
    "df_tools = [path.format(x) for x in instruments]\n",
    "df_tools = concat_data(df_tools)\n",
    "\n",
    "common_index = pd.merge(df_risk, df_tools, on=[\"Date\"], how=\"outer\").dropna().index\n",
    "df_risk = df_risk.loc[common_index].copy()\n",
    "df_tools = df_tools.loc[common_index].copy()\n",
    "\n",
    "df = pd.merge(df_risk, df_tools, on=[\"Date\"], how=\"outer\")\n",
    "features_risk = list(df_risk.columns)\n",
    "features_tools = list(df_tools.columns) + currencies\n",
    "print(len(df), len(df_risk), len(df_tools))"
   ]
  },
  {
   "cell_type": "code",
   "execution_count": 6,
   "id": "6937f619-a28b-4de9-a7a5-3efd53a49877",
   "metadata": {
    "execution": {
     "iopub.execute_input": "2022-04-02T09:49:52.870215Z",
     "iopub.status.busy": "2022-04-02T09:49:52.870077Z",
     "iopub.status.idle": "2022-04-02T09:49:52.878418Z",
     "shell.execute_reply": "2022-04-02T09:49:52.878018Z",
     "shell.execute_reply.started": "2022-04-02T09:49:52.870200Z"
    },
    "tags": []
   },
   "outputs": [],
   "source": [
    "train_df = df[df.index <= split_date].pct_change().dropna(axis=0)\n",
    "test_df = df[df.index > split_date].pct_change().dropna(axis=0)\n",
    "all_df = df.pct_change().dropna(axis=0)"
   ]
  },
  {
   "cell_type": "code",
   "execution_count": 7,
   "id": "35aeba63-7128-4bee-8f6d-f07866a98ae0",
   "metadata": {
    "execution": {
     "iopub.execute_input": "2022-04-02T09:49:52.879458Z",
     "iopub.status.busy": "2022-04-02T09:49:52.879116Z",
     "iopub.status.idle": "2022-04-02T09:49:53.167223Z",
     "shell.execute_reply": "2022-04-02T09:49:53.166531Z",
     "shell.execute_reply.started": "2022-04-02T09:49:52.879440Z"
    },
    "tags": []
   },
   "outputs": [],
   "source": [
    "import optuna\n",
    "from sklearn.decomposition import PCA\n",
    "from sklearn.linear_model import LinearRegression\n",
    "from sklearn.metrics import r2_score\n",
    "from sklearn.model_selection import TimeSeriesSplit\n",
    "\n",
    "optuna.logging.set_verbosity(optuna.logging.ERROR)\n",
    "\n",
    "\n",
    "def get_values(x):\n",
    "    if isinstance(x, (pd.DataFrame, pd.Series)):\n",
    "        return x.values\n",
    "    return x\n",
    "\n",
    "\n",
    "class Model:\n",
    "    def __init__(self, n_components=None, pca_args=None, lr_args=None):\n",
    "        self.pca_args = pca_args or {\"random_state\": 42}\n",
    "        self.lr_args = lr_args or {}\n",
    "        self.pca = PCA(n_components, **self.pca_args)\n",
    "        self.lr = LinearRegression(**self.lr_args)\n",
    "\n",
    "    def fit(self, data, target):\n",
    "        data = get_values(data)\n",
    "        target = get_values(target)\n",
    "        data_pca = self.pca.fit_transform(data)\n",
    "        self.lr.fit(data_pca, target)\n",
    "        return self\n",
    "\n",
    "    def predict(self, data):\n",
    "        data = get_values(data)\n",
    "        return self.lr.predict(self.pca.transform(data))\n",
    "\n",
    "    def __repr__(self):\n",
    "        return \"{}({}, {})\".format(self.__class__.__name__, self.pca, self.lr)\n",
    "\n",
    "\n",
    "class AutoModel:\n",
    "    def __init__(self, cv_splits=5, n_trials=10, max_components=10, metric=None):\n",
    "        self.splitter = TimeSeriesSplit(cv_splits)\n",
    "        self.study = optuna.study.create_study(sampler=optuna.samplers.TPESampler(seed=42), direction=\"maximize\")\n",
    "        self.metric = metric or r2_score\n",
    "        self.n_trials = n_trials\n",
    "        self.max_components = max_components\n",
    "\n",
    "    def fit(self, data, target):\n",
    "        data = get_values(data)\n",
    "        target = get_values(target)\n",
    "\n",
    "        def objective(trial):\n",
    "            components = trial.suggest_int(\"n_components\", 1, min([self.max_components, *data.shape]))\n",
    "            for t in trial.study.trials:\n",
    "                if t.state != optuna.trial.TrialState.COMPLETE:\n",
    "                    continue\n",
    "                if t.params == trial.params:\n",
    "                    raise optuna.exceptions.TrialPruned(\"Duplicate parameter set\")\n",
    "\n",
    "            scores = []\n",
    "            for train_idx, test_idx in self.splitter.split(data):\n",
    "                model = Model(components)\n",
    "                model.fit(data[train_idx], target[train_idx])\n",
    "                proba = model.predict(data[test_idx])\n",
    "                score = self.metric(target[test_idx], proba)\n",
    "                scores.append(score)\n",
    "            return np.mean(scores)\n",
    "\n",
    "        self.study.optimize(objective, self.n_trials)\n",
    "        return Model(**self.study.best_params).fit(data, target)"
   ]
  },
  {
   "cell_type": "code",
   "execution_count": 8,
   "id": "191f766b-708a-44c6-bf77-62824bced684",
   "metadata": {
    "execution": {
     "iopub.execute_input": "2022-04-02T09:49:53.168195Z",
     "iopub.status.busy": "2022-04-02T09:49:53.168038Z",
     "iopub.status.idle": "2022-04-02T09:49:53.183693Z",
     "shell.execute_reply": "2022-04-02T09:49:53.183180Z",
     "shell.execute_reply.started": "2022-04-02T09:49:53.168178Z"
    },
    "tags": []
   },
   "outputs": [
    {
     "data": {
      "text/plain": [
       "-0.0221256561456525"
      ]
     },
     "execution_count": 8,
     "metadata": {},
     "output_type": "execute_result"
    }
   ],
   "source": [
    "m = Model(3)\n",
    "m.fit(train_df[features_risk], train_df[features_tools])\n",
    "r2_score(test_df[features_tools], m.predict(test_df[features_risk]))"
   ]
  },
  {
   "cell_type": "code",
   "execution_count": 9,
   "id": "ca8c71d6-dc50-4d0b-b743-3e0de07e074b",
   "metadata": {
    "execution": {
     "iopub.execute_input": "2022-04-02T09:49:53.185800Z",
     "iopub.status.busy": "2022-04-02T09:49:53.185231Z",
     "iopub.status.idle": "2022-04-02T09:49:55.386066Z",
     "shell.execute_reply": "2022-04-02T09:49:55.385596Z",
     "shell.execute_reply.started": "2022-04-02T09:49:53.185775Z"
    },
    "tags": []
   },
   "outputs": [
    {
     "data": {
      "text/html": [
       "<div>\n",
       "<style scoped>\n",
       "    .dataframe tbody tr th:only-of-type {\n",
       "        vertical-align: middle;\n",
       "    }\n",
       "\n",
       "    .dataframe tbody tr th {\n",
       "        vertical-align: top;\n",
       "    }\n",
       "\n",
       "    .dataframe thead th {\n",
       "        text-align: right;\n",
       "    }\n",
       "</style>\n",
       "<table border=\"1\" class=\"dataframe\">\n",
       "  <thead>\n",
       "    <tr style=\"text-align: right;\">\n",
       "      <th></th>\n",
       "      <th>tool</th>\n",
       "      <th>n_components</th>\n",
       "      <th>r2_train</th>\n",
       "      <th>r2_test</th>\n",
       "    </tr>\n",
       "  </thead>\n",
       "  <tbody>\n",
       "    <tr>\n",
       "      <th>0</th>\n",
       "      <td>APTK</td>\n",
       "      <td>1</td>\n",
       "      <td>0.024229</td>\n",
       "      <td>-0.026043</td>\n",
       "    </tr>\n",
       "    <tr>\n",
       "      <th>1</th>\n",
       "      <td>BELU</td>\n",
       "      <td>1</td>\n",
       "      <td>0.010716</td>\n",
       "      <td>-0.006807</td>\n",
       "    </tr>\n",
       "    <tr>\n",
       "      <th>2</th>\n",
       "      <td>FESH</td>\n",
       "      <td>1</td>\n",
       "      <td>0.078049</td>\n",
       "      <td>-0.024617</td>\n",
       "    </tr>\n",
       "    <tr>\n",
       "      <th>3</th>\n",
       "      <td>MVID</td>\n",
       "      <td>1</td>\n",
       "      <td>0.009878</td>\n",
       "      <td>-0.019814</td>\n",
       "    </tr>\n",
       "    <tr>\n",
       "      <th>4</th>\n",
       "      <td>NKNCP</td>\n",
       "      <td>4</td>\n",
       "      <td>0.041822</td>\n",
       "      <td>-0.008094</td>\n",
       "    </tr>\n",
       "    <tr>\n",
       "      <th>5</th>\n",
       "      <td>PHOR</td>\n",
       "      <td>9</td>\n",
       "      <td>0.140284</td>\n",
       "      <td>0.006302</td>\n",
       "    </tr>\n",
       "    <tr>\n",
       "      <th>6</th>\n",
       "      <td>PIKK</td>\n",
       "      <td>1</td>\n",
       "      <td>0.028556</td>\n",
       "      <td>-0.000141</td>\n",
       "    </tr>\n",
       "    <tr>\n",
       "      <th>7</th>\n",
       "      <td>RASP</td>\n",
       "      <td>7</td>\n",
       "      <td>0.167762</td>\n",
       "      <td>0.004794</td>\n",
       "    </tr>\n",
       "    <tr>\n",
       "      <th>8</th>\n",
       "      <td>SELG</td>\n",
       "      <td>1</td>\n",
       "      <td>0.030985</td>\n",
       "      <td>0.008605</td>\n",
       "    </tr>\n",
       "    <tr>\n",
       "      <th>9</th>\n",
       "      <td>SNGSP</td>\n",
       "      <td>9</td>\n",
       "      <td>0.160947</td>\n",
       "      <td>-0.091917</td>\n",
       "    </tr>\n",
       "    <tr>\n",
       "      <th>10</th>\n",
       "      <td>OFZ_26207</td>\n",
       "      <td>9</td>\n",
       "      <td>0.852326</td>\n",
       "      <td>0.710332</td>\n",
       "    </tr>\n",
       "    <tr>\n",
       "      <th>11</th>\n",
       "      <td>OFZ_26209</td>\n",
       "      <td>4</td>\n",
       "      <td>0.509289</td>\n",
       "      <td>-1.773875</td>\n",
       "    </tr>\n",
       "    <tr>\n",
       "      <th>12</th>\n",
       "      <td>OFZ_26211</td>\n",
       "      <td>4</td>\n",
       "      <td>0.556035</td>\n",
       "      <td>-0.492072</td>\n",
       "    </tr>\n",
       "    <tr>\n",
       "      <th>13</th>\n",
       "      <td>OFZ_26212</td>\n",
       "      <td>8</td>\n",
       "      <td>0.868009</td>\n",
       "      <td>0.719628</td>\n",
       "    </tr>\n",
       "    <tr>\n",
       "      <th>14</th>\n",
       "      <td>OFZ_26218</td>\n",
       "      <td>10</td>\n",
       "      <td>0.880211</td>\n",
       "      <td>0.822877</td>\n",
       "    </tr>\n",
       "    <tr>\n",
       "      <th>15</th>\n",
       "      <td>USD</td>\n",
       "      <td>10</td>\n",
       "      <td>0.953873</td>\n",
       "      <td>0.925201</td>\n",
       "    </tr>\n",
       "    <tr>\n",
       "      <th>16</th>\n",
       "      <td>CHF</td>\n",
       "      <td>10</td>\n",
       "      <td>0.948729</td>\n",
       "      <td>0.908570</td>\n",
       "    </tr>\n",
       "  </tbody>\n",
       "</table>\n",
       "</div>"
      ],
      "text/plain": [
       "         tool  n_components  r2_train   r2_test\n",
       "0        APTK             1  0.024229 -0.026043\n",
       "1        BELU             1  0.010716 -0.006807\n",
       "2        FESH             1  0.078049 -0.024617\n",
       "3        MVID             1  0.009878 -0.019814\n",
       "4       NKNCP             4  0.041822 -0.008094\n",
       "5        PHOR             9  0.140284  0.006302\n",
       "6        PIKK             1  0.028556 -0.000141\n",
       "7        RASP             7  0.167762  0.004794\n",
       "8        SELG             1  0.030985  0.008605\n",
       "9       SNGSP             9  0.160947 -0.091917\n",
       "10  OFZ_26207             9  0.852326  0.710332\n",
       "11  OFZ_26209             4  0.509289 -1.773875\n",
       "12  OFZ_26211             4  0.556035 -0.492072\n",
       "13  OFZ_26212             8  0.868009  0.719628\n",
       "14  OFZ_26218            10  0.880211  0.822877\n",
       "15        USD            10  0.953873  0.925201\n",
       "16        CHF            10  0.948729  0.908570"
      ]
     },
     "execution_count": 9,
     "metadata": {},
     "output_type": "execute_result"
    }
   ],
   "source": [
    "results = []\n",
    "\n",
    "for f in features_tools:\n",
    "    m = AutoModel().fit(train_df[features_risk], train_df[f])\n",
    "    score = m.predict(train_df[features_risk])\n",
    "    score_test = m.predict(test_df[features_risk])\n",
    "    results.append({\n",
    "        'tool': f,\n",
    "        'n_components': m.pca.n_components,\n",
    "        'r2_train': r2_score(train_df[f], score), \n",
    "        'r2_test': r2_score(test_df[f], score_test),\n",
    "    })\n",
    "results = pd.DataFrame(results)\n",
    "results"
   ]
  },
  {
   "cell_type": "code",
   "execution_count": 10,
   "id": "f6aa5e00-9e4b-4ce9-9bd3-53075bc8af5e",
   "metadata": {
    "execution": {
     "iopub.execute_input": "2022-04-02T09:49:55.392733Z",
     "iopub.status.busy": "2022-04-02T09:49:55.390235Z",
     "iopub.status.idle": "2022-04-02T09:49:55.542863Z",
     "shell.execute_reply": "2022-04-02T09:49:55.542363Z",
     "shell.execute_reply.started": "2022-04-02T09:49:55.392700Z"
    },
    "tags": []
   },
   "outputs": [
    {
     "data": {
      "text/plain": [
       "<matplotlib.lines.Line2D at 0x7f42a44db6a0>"
      ]
     },
     "execution_count": 10,
     "metadata": {},
     "output_type": "execute_result"
    },
    {
     "data": {
      "image/png": "[encoded data removed]",
      "text/plain": [
       "<Figure size 432x288 with 1 Axes>"
      ]
     },
     "metadata": {
      "needs_background": "light"
     },
     "output_type": "display_data"
    }
   ],
   "source": [
    "plt.plot(df[\"OFZ_26209\"])\n",
    "plt.axvline(pd.Timestamp(split_date))"
   ]
  },
  {
   "cell_type": "code",
   "execution_count": null,
   "id": "765d8e19-aafa-4b4a-92c1-164553205713",
   "metadata": {},
   "outputs": [],
   "source": []
  },
  {
   "cell_type": "code",
   "execution_count": null,
   "id": "1e719352-c47e-4d84-b120-0c724f727b2a",
   "metadata": {},
   "outputs": [],
   "source": []
  }
 ],
 "metadata": {
  "kernelspec": {
   "display_name": "Python 3 (ipykernel)",
   "language": "python",
   "name": "python3"
  },
  "language_info": {
   "codemirror_mode": {
    "name": "ipython",
    "version": 3
   },
   "file_extension": ".py",
   "mimetype": "text/x-python",
   "name": "python",
   "nbconvert_exporter": "python",
   "pygments_lexer": "ipython3",
   "version": "3.8.10"
  }
 },
 "nbformat": 4,
 "nbformat_minor": 5
}
