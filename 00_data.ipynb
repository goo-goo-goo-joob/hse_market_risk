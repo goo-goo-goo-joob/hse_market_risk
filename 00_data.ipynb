{
 "cells": [
  {
   "cell_type": "markdown",
   "id": "bdc4b78b-76de-4ea1-a1ea-0b157277269a",
   "metadata": {},
   "source": [
    "# Загрузка и подготовка данных\n",
    "\n",
    "Источники данных\n",
    "\n",
    "1. [Yahoo finance](https://finance.yahoo.com/)\n",
    "\n",
    "Котировки акций, цена на нефть Brent на NY\n",
    "\n",
    "2. [ЦБ РФ - Значения кривой бескупонной доходности государственных облигаций (% годовых)](http://www.cbr.ru/hd_base/zcyc_params/?UniDbQuery.Posted=True&UniDbQuery.From=01.01.2016&UniDbQuery.To=01.01.2022)\n",
    "\n",
    "[MOEX](https://www.moex.com/ru/marketdata/indices/state/g-curve/archive/)\n",
    "Процентные ставки на разные сроки\n",
    "\n",
    "3. [RUSBONDS](https://rusbonds.ru/filters/bonds/new)\n",
    "Поиск облигаций\n",
    "\n",
    "[Tinkoff invest API](https://tinkoff.github.io/investAPI/)\n",
    "Котировки облигаций\n",
    "\n",
    "| ОФЗ         | ISIN         | ticker       | figi         | url |\n",
    "| ----------- | -----------  | -----------  | -----------  | --- |\n",
    "| ОФЗ 26207   | RU000A0JS3W6 | SU26207RMFS9 | BBG002PD3452 | https://www.tinkoff.ru/invest/bonds/SU26207RMFS9/coupons/ |\n",
    "| ОФЗ 26209   | RU000A0JSMA2 | SU26209RMFS5 | BBG00386NQK6 | https://www.tinkoff.ru/invest/bonds/SU26209RMFS5/coupons/ |\n",
    "| ОФЗ 26218   | RU000A0JVW48 | SU26218RMFS6 | BBG00B9PJ7V0 | https://www.tinkoff.ru/invest/bonds/SU26218RMFS6/coupons/ |\n",
    "| ОФЗ 26211   | RU000A0JTJL3 | SU26211RMFS1 | BBG003TTSBB1 | https://www.tinkoff.ru/invest/bonds/SU26211RMFS1/coupons/ |\n",
    "| ОФЗ 26212   | RU000A0JTK38 | SU26212RMFS9 | BBG00425VG07 | https://www.tinkoff.ru/invest/bonds/SU26212RMFS9/coupons/ |\n",
    "\n",
    "4. [ЦБ РФ - цены на драгоценные металлы](https://www.cbr.ru/hd_base/metall/metall_base_new/?UniDbQuery.Posted=True&UniDbQuery.From=01.01.2015&UniDbQuery.To=26.03.2022&UniDbQuery.Gold=true&UniDbQuery.Silver=true&UniDbQuery.Platinum=true&UniDbQuery.Palladium=true&UniDbQuery.so=1)\n",
    "\n",
    "5. [ЦБ ФР - динамика курса валют](https://www.cbr.ru/currency_base/dynamics/?UniDbQuery.Posted=True&UniDbQuery.so=1&UniDbQuery.mode=1&UniDbQuery.date_req1=&UniDbQuery.date_req2=&UniDbQuery.VAL_NM_RQ=R01775&UniDbQuery.From=19.03.2022&UniDbQuery.To=26.03.2022)\n",
    "\n",
    "6. [MOEX - RTSI](https://www.moex.com/ru/index/RTSI/archive/)\n"
   ]
  },
  {
   "cell_type": "code",
   "execution_count": 1,
   "id": "912d211c-ea59-4a85-a7e9-aa1488ea4c23",
   "metadata": {
    "execution": {
     "iopub.execute_input": "2022-03-29T19:40:09.547355Z",
     "iopub.status.busy": "2022-03-29T19:40:09.546781Z",
     "iopub.status.idle": "2022-03-29T19:40:12.424673Z",
     "shell.execute_reply": "2022-03-29T19:40:12.424064Z",
     "shell.execute_reply.started": "2022-03-29T19:40:09.547288Z"
    },
    "tags": []
   },
   "outputs": [],
   "source": [
    "import datetime\n",
    "import json\n",
    "import os\n",
    "\n",
    "import matplotlib.pyplot as plt\n",
    "import pandas as pd\n",
    "import requests\n",
    "import tinvest\n",
    "import yfinance as yf\n",
    "from bs4 import BeautifulSoup\n",
    "from pytz import timezone\n",
    "from tqdm.notebook import tqdm"
   ]
  },
  {
   "cell_type": "code",
   "execution_count": 2,
   "id": "eafd6703-75b0-4045-9ec7-f61f42e34342",
   "metadata": {
    "execution": {
     "iopub.execute_input": "2022-03-29T19:40:12.426220Z",
     "iopub.status.busy": "2022-03-29T19:40:12.426030Z",
     "iopub.status.idle": "2022-03-29T19:40:12.430563Z",
     "shell.execute_reply": "2022-03-29T19:40:12.429952Z",
     "shell.execute_reply.started": "2022-03-29T19:40:12.426194Z"
    },
    "tags": []
   },
   "outputs": [],
   "source": [
    "begin = \"2016-01-01\"\n",
    "end = \"2022-01-01\"\n",
    "\n",
    "begin_ = datetime.datetime.strptime(begin, \"%Y-%m-%d\")\n",
    "end_ = datetime.datetime.strptime(end, \"%Y-%m-%d\")\n",
    "\n",
    "date_from = \"01.01.2016\"\n",
    "date_to = \"01.01.2022\""
   ]
  },
  {
   "cell_type": "code",
   "execution_count": 3,
   "id": "5d4df701-7ed9-4b5e-903c-b970424f03d5",
   "metadata": {
    "execution": {
     "iopub.execute_input": "2022-03-29T19:40:12.432126Z",
     "iopub.status.busy": "2022-03-29T19:40:12.431740Z",
     "iopub.status.idle": "2022-03-29T19:40:12.441767Z",
     "shell.execute_reply": "2022-03-29T19:40:12.441155Z",
     "shell.execute_reply.started": "2022-03-29T19:40:12.432097Z"
    },
    "tags": []
   },
   "outputs": [],
   "source": [
    "queries = {\n",
    "    \"FESH.ME\": \"FESH\",\n",
    "    \"APTK.ME\": \"APTK\",\n",
    "    \"RASP.ME\": \"RASP\",\n",
    "    \"NKNCP.ME\": \"NKNCP\",\n",
    "    \"MVID.ME\": \"MVID\",\n",
    "    \"BELU.ME\": \"BELU\",\n",
    "    \"PHOR.ME\": \"PHOR\",\n",
    "    \"SNGSP.ME\": \"SNGSP\",\n",
    "    \"SELG.ME\": \"SELG\",\n",
    "    \"PIKK.ME\": \"PIKK\",\n",
    "    \"YNDX.ME\": \"YNDX\",\n",
    "    \"IMOEX.ME\": \"IMOEX\",\n",
    "    \"BZ=F\": \"BRENT\",\n",
    "}"
   ]
  },
  {
   "cell_type": "code",
   "execution_count": 4,
   "id": "b66a2423-e2ba-44db-ac4d-37802c26d463",
   "metadata": {
    "execution": {
     "iopub.execute_input": "2022-03-29T19:40:12.506030Z",
     "iopub.status.busy": "2022-03-29T19:40:12.505490Z",
     "iopub.status.idle": "2022-03-29T19:40:12.531476Z",
     "shell.execute_reply": "2022-03-29T19:40:12.530889Z",
     "shell.execute_reply.started": "2022-03-29T19:40:12.506009Z"
    },
    "tags": []
   },
   "outputs": [
    {
     "data": {
      "application/vnd.jupyter.widget-view+json": {
       "model_id": "490db46913464ceb9ee10a0e5181da46",
       "version_major": 2,
       "version_minor": 0
      },
      "text/plain": [
       "  0%|          | 0/13 [00:00<?, ?it/s]"
      ]
     },
     "metadata": {},
     "output_type": "display_data"
    }
   ],
   "source": [
    "path = \"./data/{}.csv\"\n",
    "for stock, out in tqdm(queries.items()):\n",
    "    spath = path.format(out)\n",
    "    if os.path.exists(spath):\n",
    "        continue\n",
    "    df = yf.download(stock, begin, end)\n",
    "    df[out] = df[\"Adj Close\"]  # .map(lambda x: )\n",
    "    df[[out]].to_csv(spath)\n",
    "    # df[out].plot.hist()\n",
    "    # plt.show()"
   ]
  },
  {
   "cell_type": "code",
   "execution_count": 5,
   "id": "5df61a13-c054-42bf-916c-7e8b65734b1f",
   "metadata": {
    "execution": {
     "iopub.execute_input": "2022-03-29T19:40:15.094532Z",
     "iopub.status.busy": "2022-03-29T19:40:15.093911Z",
     "iopub.status.idle": "2022-03-29T19:40:15.311860Z",
     "shell.execute_reply": "2022-03-29T19:40:15.311254Z",
     "shell.execute_reply.started": "2022-03-29T19:40:15.094504Z"
    },
    "tags": []
   },
   "outputs": [],
   "source": [
    "with open(os.path.expanduser(\"~/.tcs_token\"), \"r\") as f:\n",
    "    TOKEN = f.read().strip()\n",
    "tz = timezone(\"Europe/Moscow\")\n",
    "client = tinvest.SyncClient(TOKEN, use_sandbox=True)\n",
    "bonds = client.get_market_bonds().payload.instruments\n",
    "bonds = pd.DataFrame([json.loads(x.json()) for x in bonds])"
   ]
  },
  {
   "cell_type": "code",
   "execution_count": 6,
   "id": "88b15580-3f2c-4188-b956-515ff4a09085",
   "metadata": {
    "execution": {
     "iopub.execute_input": "2022-03-29T19:40:19.729310Z",
     "iopub.status.busy": "2022-03-29T19:40:19.728862Z",
     "iopub.status.idle": "2022-03-29T19:40:19.776297Z",
     "shell.execute_reply": "2022-03-29T19:40:19.775771Z",
     "shell.execute_reply.started": "2022-03-29T19:40:19.729285Z"
    },
    "tags": []
   },
   "outputs": [
    {
     "data": {
      "text/html": [
       "<div>\n",
       "<style scoped>\n",
       "    .dataframe tbody tr th:only-of-type {\n",
       "        vertical-align: middle;\n",
       "    }\n",
       "\n",
       "    .dataframe tbody tr th {\n",
       "        vertical-align: top;\n",
       "    }\n",
       "\n",
       "    .dataframe thead th {\n",
       "        text-align: right;\n",
       "    }\n",
       "</style>\n",
       "<table border=\"1\" class=\"dataframe\">\n",
       "  <thead>\n",
       "    <tr style=\"text-align: right;\">\n",
       "      <th></th>\n",
       "      <th>currency</th>\n",
       "      <th>figi</th>\n",
       "      <th>isin</th>\n",
       "      <th>lot</th>\n",
       "      <th>min_price_increment</th>\n",
       "      <th>name</th>\n",
       "      <th>ticker</th>\n",
       "      <th>type</th>\n",
       "      <th>min_quantity</th>\n",
       "    </tr>\n",
       "  </thead>\n",
       "  <tbody>\n",
       "    <tr>\n",
       "      <th>101</th>\n",
       "      <td>RUB</td>\n",
       "      <td>BBG00B9PJ7V0</td>\n",
       "      <td>RU000A0JVW48</td>\n",
       "      <td>1</td>\n",
       "      <td>0.01</td>\n",
       "      <td>ОФЗ 26218</td>\n",
       "      <td>SU26218RMFS6</td>\n",
       "      <td>Bond</td>\n",
       "      <td>NaN</td>\n",
       "    </tr>\n",
       "    <tr>\n",
       "      <th>130</th>\n",
       "      <td>RUB</td>\n",
       "      <td>BBG002PD3452</td>\n",
       "      <td>RU000A0JS3W6</td>\n",
       "      <td>1</td>\n",
       "      <td>0.01</td>\n",
       "      <td>ОФЗ 26207</td>\n",
       "      <td>SU26207RMFS9</td>\n",
       "      <td>Bond</td>\n",
       "      <td>NaN</td>\n",
       "    </tr>\n",
       "    <tr>\n",
       "      <th>148</th>\n",
       "      <td>RUB</td>\n",
       "      <td>BBG00425VG07</td>\n",
       "      <td>RU000A0JTK38</td>\n",
       "      <td>1</td>\n",
       "      <td>0.01</td>\n",
       "      <td>ОФЗ 26212</td>\n",
       "      <td>SU26212RMFS9</td>\n",
       "      <td>Bond</td>\n",
       "      <td>NaN</td>\n",
       "    </tr>\n",
       "    <tr>\n",
       "      <th>382</th>\n",
       "      <td>RUB</td>\n",
       "      <td>BBG003TTSBB1</td>\n",
       "      <td>RU000A0JTJL3</td>\n",
       "      <td>1</td>\n",
       "      <td>0.01</td>\n",
       "      <td>ОФЗ 26211</td>\n",
       "      <td>SU26211RMFS1</td>\n",
       "      <td>Bond</td>\n",
       "      <td>NaN</td>\n",
       "    </tr>\n",
       "    <tr>\n",
       "      <th>601</th>\n",
       "      <td>RUB</td>\n",
       "      <td>BBG00386NQK6</td>\n",
       "      <td>RU000A0JSMA2</td>\n",
       "      <td>1</td>\n",
       "      <td>0.01</td>\n",
       "      <td>ОФЗ 26209</td>\n",
       "      <td>SU26209RMFS5</td>\n",
       "      <td>Bond</td>\n",
       "      <td>NaN</td>\n",
       "    </tr>\n",
       "  </tbody>\n",
       "</table>\n",
       "</div>"
      ],
      "text/plain": [
       "    currency          figi          isin  lot  min_price_increment       name  \\\n",
       "101      RUB  BBG00B9PJ7V0  RU000A0JVW48    1                 0.01  ОФЗ 26218   \n",
       "130      RUB  BBG002PD3452  RU000A0JS3W6    1                 0.01  ОФЗ 26207   \n",
       "148      RUB  BBG00425VG07  RU000A0JTK38    1                 0.01  ОФЗ 26212   \n",
       "382      RUB  BBG003TTSBB1  RU000A0JTJL3    1                 0.01  ОФЗ 26211   \n",
       "601      RUB  BBG00386NQK6  RU000A0JSMA2    1                 0.01  ОФЗ 26209   \n",
       "\n",
       "           ticker  type  min_quantity  \n",
       "101  SU26218RMFS6  Bond           NaN  \n",
       "130  SU26207RMFS9  Bond           NaN  \n",
       "148  SU26212RMFS9  Bond           NaN  \n",
       "382  SU26211RMFS1  Bond           NaN  \n",
       "601  SU26209RMFS5  Bond           NaN  "
      ]
     },
     "execution_count": 6,
     "metadata": {},
     "output_type": "execute_result"
    }
   ],
   "source": [
    "bond_list = [\"RU000A0JS3W6\", \"RU000A0JSMA2\", \"RU000A0JVW48\", \"RU000A0JTJL3\", \"RU000A0JTK38\"]\n",
    "bonds[bonds[\"isin\"].isin(bond_list)]"
   ]
  },
  {
   "cell_type": "code",
   "execution_count": 7,
   "id": "f89fe5ee-f5ae-48e7-a60c-74ff90100054",
   "metadata": {
    "execution": {
     "iopub.execute_input": "2022-03-29T19:40:53.120134Z",
     "iopub.status.busy": "2022-03-29T19:40:53.119709Z",
     "iopub.status.idle": "2022-03-29T19:40:53.129613Z",
     "shell.execute_reply": "2022-03-29T19:40:53.128801Z",
     "shell.execute_reply.started": "2022-03-29T19:40:53.120111Z"
    },
    "tags": []
   },
   "outputs": [],
   "source": [
    "def get_max_duration(interval):\n",
    "    if interval == tinvest.schemas.CandleResolution.min1:\n",
    "        return datetime.timedelta(days=1)\n",
    "    elif interval == tinvest.schemas.CandleResolution.min2:\n",
    "        return datetime.timedelta(days=1)\n",
    "    elif interval == tinvest.schemas.CandleResolution.min3:\n",
    "        return datetime.timedelta(days=1)\n",
    "    elif interval == tinvest.schemas.CandleResolution.min5:\n",
    "        return datetime.timedelta(days=1)\n",
    "    elif interval == tinvest.schemas.CandleResolution.min10:\n",
    "        return datetime.timedelta(days=1)\n",
    "    elif interval == tinvest.schemas.CandleResolution.min15:\n",
    "        return datetime.timedelta(days=1)\n",
    "    elif interval == tinvest.schemas.CandleResolution.min30:\n",
    "        return datetime.timedelta(days=1)\n",
    "    elif interval == tinvest.schemas.CandleResolution.hour:\n",
    "        return datetime.timedelta(days=7)\n",
    "    elif interval == tinvest.schemas.CandleResolution.day:\n",
    "        return datetime.timedelta(days=365)\n",
    "    elif interval == tinvest.schemas.CandleResolution.week:\n",
    "        return datetime.timedelta(days=365 * 2)\n",
    "    elif interval == tinvest.schemas.CandleResolution.month:\n",
    "        return datetime.timedelta(days=365 * 10)\n",
    "    raise ValueError(\"unknown interval value {}\".format(interval))\n",
    "\n",
    "\n",
    "def get_candles(client, figi, from_=None, to_=None, *, interval):\n",
    "    if to_ is None:\n",
    "        to_ = datetime.now(tz=timezone(\"Europe/Moscow\"))\n",
    "    result = []\n",
    "    duration = get_max_duration(interval)\n",
    "    d2 = to_\n",
    "    d1 = d2 - duration\n",
    "    if from_ is not None and d1 < from_:\n",
    "        d1 = from_\n",
    "    while True:\n",
    "        r = client.get_market_candles(figi, d1, d2, interval)\n",
    "        result.extend(r.payload.candles)\n",
    "        d2 = d1\n",
    "        d1 -= duration\n",
    "        if (from_ is not None and d2 < from_) or len(r.payload.candles) == 0:\n",
    "            break\n",
    "    result = pd.DataFrame([json.loads(x.json()) for x in result])\n",
    "    result[\"time\"] = pd.to_datetime(result[\"time\"]).dt.tz_convert(tz)\n",
    "    result = result.sort_values(\"time\").reset_index(drop=True)\n",
    "    result[\"Date\"] = pd.to_datetime(result[\"time\"].dt.date)\n",
    "    result = result.set_index(\"Date\")\n",
    "    return result[[\"c\"]]"
   ]
  },
  {
   "cell_type": "code",
   "execution_count": 8,
   "id": "f72e95c6-6b8f-425b-8354-82616ab6b861",
   "metadata": {
    "execution": {
     "iopub.execute_input": "2022-03-29T19:40:53.459845Z",
     "iopub.status.busy": "2022-03-29T19:40:53.459314Z",
     "iopub.status.idle": "2022-03-29T19:40:53.469485Z",
     "shell.execute_reply": "2022-03-29T19:40:53.468845Z",
     "shell.execute_reply.started": "2022-03-29T19:40:53.459821Z"
    },
    "tags": []
   },
   "outputs": [
    {
     "data": {
      "text/html": [
       "<div>\n",
       "<style scoped>\n",
       "    .dataframe tbody tr th:only-of-type {\n",
       "        vertical-align: middle;\n",
       "    }\n",
       "\n",
       "    .dataframe tbody tr th {\n",
       "        vertical-align: top;\n",
       "    }\n",
       "\n",
       "    .dataframe thead th {\n",
       "        text-align: right;\n",
       "    }\n",
       "</style>\n",
       "<table border=\"1\" class=\"dataframe\">\n",
       "  <thead>\n",
       "    <tr style=\"text-align: right;\">\n",
       "      <th></th>\n",
       "      <th>currency</th>\n",
       "      <th>figi</th>\n",
       "      <th>isin</th>\n",
       "      <th>lot</th>\n",
       "      <th>min_price_increment</th>\n",
       "      <th>name</th>\n",
       "      <th>ticker</th>\n",
       "      <th>type</th>\n",
       "      <th>min_quantity</th>\n",
       "    </tr>\n",
       "  </thead>\n",
       "  <tbody>\n",
       "    <tr>\n",
       "      <th>0</th>\n",
       "      <td>RUB</td>\n",
       "      <td>BBG00T22WKV5</td>\n",
       "      <td>RU000A101KT1</td>\n",
       "      <td>1</td>\n",
       "      <td>0.01</td>\n",
       "      <td>ОФЗ 29013</td>\n",
       "      <td>SU29013RMFS8</td>\n",
       "      <td>Bond</td>\n",
       "      <td>NaN</td>\n",
       "    </tr>\n",
       "    <tr>\n",
       "      <th>1</th>\n",
       "      <td>RUB</td>\n",
       "      <td>BBG00R05JT04</td>\n",
       "      <td>RU000A1013Y3</td>\n",
       "      <td>1</td>\n",
       "      <td>0.10</td>\n",
       "      <td>Черкизово выпуск 2</td>\n",
       "      <td>RU000A1013Y3</td>\n",
       "      <td>Bond</td>\n",
       "      <td>NaN</td>\n",
       "    </tr>\n",
       "    <tr>\n",
       "      <th>2</th>\n",
       "      <td>RUB</td>\n",
       "      <td>BBG00KHGQP89</td>\n",
       "      <td>RU000A0ZZ1F6</td>\n",
       "      <td>1</td>\n",
       "      <td>0.10</td>\n",
       "      <td>КарМани БО выпуск 2</td>\n",
       "      <td>RU000A0ZZ1F6</td>\n",
       "      <td>Bond</td>\n",
       "      <td>NaN</td>\n",
       "    </tr>\n",
       "    <tr>\n",
       "      <th>3</th>\n",
       "      <td>RUB</td>\n",
       "      <td>BBG00Q9K64Q5</td>\n",
       "      <td>RU000A100TD8</td>\n",
       "      <td>1</td>\n",
       "      <td>0.10</td>\n",
       "      <td>Солид-Лизинг выпуск 5</td>\n",
       "      <td>RU000A100TD8</td>\n",
       "      <td>Bond</td>\n",
       "      <td>NaN</td>\n",
       "    </tr>\n",
       "    <tr>\n",
       "      <th>4</th>\n",
       "      <td>RUB</td>\n",
       "      <td>BBG012NW2KW6</td>\n",
       "      <td>RU000A103QL1</td>\n",
       "      <td>1</td>\n",
       "      <td>0.10</td>\n",
       "      <td>Росагролизинг выпуск 3</td>\n",
       "      <td>RU000A103QL1</td>\n",
       "      <td>Bond</td>\n",
       "      <td>NaN</td>\n",
       "    </tr>\n",
       "  </tbody>\n",
       "</table>\n",
       "</div>"
      ],
      "text/plain": [
       "  currency          figi          isin  lot  min_price_increment  \\\n",
       "0      RUB  BBG00T22WKV5  RU000A101KT1    1                 0.01   \n",
       "1      RUB  BBG00R05JT04  RU000A1013Y3    1                 0.10   \n",
       "2      RUB  BBG00KHGQP89  RU000A0ZZ1F6    1                 0.10   \n",
       "3      RUB  BBG00Q9K64Q5  RU000A100TD8    1                 0.10   \n",
       "4      RUB  BBG012NW2KW6  RU000A103QL1    1                 0.10   \n",
       "\n",
       "                     name        ticker  type  min_quantity  \n",
       "0               ОФЗ 29013  SU29013RMFS8  Bond           NaN  \n",
       "1      Черкизово выпуск 2  RU000A1013Y3  Bond           NaN  \n",
       "2     КарМани БО выпуск 2  RU000A0ZZ1F6  Bond           NaN  \n",
       "3   Солид-Лизинг выпуск 5  RU000A100TD8  Bond           NaN  \n",
       "4  Росагролизинг выпуск 3  RU000A103QL1  Bond           NaN  "
      ]
     },
     "execution_count": 8,
     "metadata": {},
     "output_type": "execute_result"
    }
   ],
   "source": [
    "bonds.head()"
   ]
  },
  {
   "cell_type": "code",
   "execution_count": 14,
   "id": "cc382c12-1cb3-4ce0-be06-9cf6df52149e",
   "metadata": {
    "execution": {
     "iopub.execute_input": "2022-03-29T19:42:47.301977Z",
     "iopub.status.busy": "2022-03-29T19:42:47.301399Z",
     "iopub.status.idle": "2022-03-29T19:42:47.329217Z",
     "shell.execute_reply": "2022-03-29T19:42:47.328623Z",
     "shell.execute_reply.started": "2022-03-29T19:42:47.301953Z"
    },
    "tags": []
   },
   "outputs": [
    {
     "data": {
      "text/plain": [
       "CandlesResponse(payload=Candles(candles=[], figi='BBG00B9PJ7V0', interval=<CandleResolution.day: 'day'>), status='Ok', tracking_id='f49b9ef16bfbc2e4')"
      ]
     },
     "execution_count": 14,
     "metadata": {},
     "output_type": "execute_result"
    }
   ],
   "source": [
    "client.get_market_candles('BBG00B9PJ7V0', datetime.datetime(2015, 1, 1, 0, 0), datetime.datetime(2016, 1, 1, 0, 0), tinvest.schemas.CandleResolution.day)"
   ]
  },
  {
   "cell_type": "code",
   "execution_count": 13,
   "id": "7e8218d4-3faa-4f77-8086-4f71c8b141b7",
   "metadata": {
    "execution": {
     "iopub.execute_input": "2022-03-29T19:42:06.629547Z",
     "iopub.status.busy": "2022-03-29T19:42:06.629093Z",
     "iopub.status.idle": "2022-03-29T19:42:06.980275Z",
     "shell.execute_reply": "2022-03-29T19:42:06.979674Z",
     "shell.execute_reply.started": "2022-03-29T19:42:06.629525Z"
    },
    "tags": []
   },
   "outputs": [
    {
     "data": {
      "text/html": [
       "<div>\n",
       "<style scoped>\n",
       "    .dataframe tbody tr th:only-of-type {\n",
       "        vertical-align: middle;\n",
       "    }\n",
       "\n",
       "    .dataframe tbody tr th {\n",
       "        vertical-align: top;\n",
       "    }\n",
       "\n",
       "    .dataframe thead th {\n",
       "        text-align: right;\n",
       "    }\n",
       "</style>\n",
       "<table border=\"1\" class=\"dataframe\">\n",
       "  <thead>\n",
       "    <tr style=\"text-align: right;\">\n",
       "      <th></th>\n",
       "      <th>c</th>\n",
       "    </tr>\n",
       "    <tr>\n",
       "      <th>Date</th>\n",
       "      <th></th>\n",
       "    </tr>\n",
       "  </thead>\n",
       "  <tbody>\n",
       "    <tr>\n",
       "      <th>2016-02-17</th>\n",
       "      <td>892.081</td>\n",
       "    </tr>\n",
       "    <tr>\n",
       "      <th>2016-02-18</th>\n",
       "      <td>902.500</td>\n",
       "    </tr>\n",
       "    <tr>\n",
       "      <th>2016-02-19</th>\n",
       "      <td>898.000</td>\n",
       "    </tr>\n",
       "    <tr>\n",
       "      <th>2016-02-20</th>\n",
       "      <td>901.000</td>\n",
       "    </tr>\n",
       "    <tr>\n",
       "      <th>2016-02-22</th>\n",
       "      <td>906.951</td>\n",
       "    </tr>\n",
       "    <tr>\n",
       "      <th>...</th>\n",
       "      <td>...</td>\n",
       "    </tr>\n",
       "    <tr>\n",
       "      <th>2021-12-24</th>\n",
       "      <td>1017.500</td>\n",
       "    </tr>\n",
       "    <tr>\n",
       "      <th>2021-12-27</th>\n",
       "      <td>1018.090</td>\n",
       "    </tr>\n",
       "    <tr>\n",
       "      <th>2021-12-28</th>\n",
       "      <td>1017.880</td>\n",
       "    </tr>\n",
       "    <tr>\n",
       "      <th>2021-12-29</th>\n",
       "      <td>1017.170</td>\n",
       "    </tr>\n",
       "    <tr>\n",
       "      <th>2021-12-30</th>\n",
       "      <td>1019.070</td>\n",
       "    </tr>\n",
       "  </tbody>\n",
       "</table>\n",
       "<p>1485 rows × 1 columns</p>\n",
       "</div>"
      ],
      "text/plain": [
       "                   c\n",
       "Date                \n",
       "2016-02-17   892.081\n",
       "2016-02-18   902.500\n",
       "2016-02-19   898.000\n",
       "2016-02-20   901.000\n",
       "2016-02-22   906.951\n",
       "...              ...\n",
       "2021-12-24  1017.500\n",
       "2021-12-27  1018.090\n",
       "2021-12-28  1017.880\n",
       "2021-12-29  1017.170\n",
       "2021-12-30  1019.070\n",
       "\n",
       "[1485 rows x 1 columns]"
      ]
     },
     "execution_count": 13,
     "metadata": {},
     "output_type": "execute_result"
    }
   ],
   "source": [
    "get_candles(client, '', datetime.datetime(2015, 1, 1, 0, 0), end_, interval=tinvest.schemas.CandleResolution.day)"
   ]
  },
  {
   "cell_type": "code",
   "execution_count": 88,
   "id": "7b462083-2069-4d3d-aa68-52fcd5b7958e",
   "metadata": {
    "execution": {
     "iopub.execute_input": "2022-03-27T18:34:24.755566Z",
     "iopub.status.busy": "2022-03-27T18:34:24.755065Z",
     "iopub.status.idle": "2022-03-27T18:34:26.926226Z",
     "shell.execute_reply": "2022-03-27T18:34:26.925682Z",
     "shell.execute_reply.started": "2022-03-27T18:34:24.755544Z"
    },
    "tags": []
   },
   "outputs": [],
   "source": [
    "# ОФЗ\n",
    "path = \"./data/{}.csv\"\n",
    "for _, row in bonds[bonds[\"isin\"].isin(bond_list)].iterrows():\n",
    "    out = row['name'].replace('ОФЗ ', 'OFZ_')\n",
    "    spath = path.format(out)\n",
    "    if os.path.exists(spath):\n",
    "        continue\n",
    "    df = get_candles(client, row[\"figi\"], begin_, end_, interval=tinvest.schemas.CandleResolution.day)\n",
    "    df.rename({'c': out}, axis=1).to_csv(spath)"
   ]
  },
  {
   "cell_type": "code",
   "execution_count": 91,
   "id": "6b7adb70-8c7b-4a8a-b259-008a3be93fd6",
   "metadata": {
    "execution": {
     "iopub.execute_input": "2022-03-27T18:37:20.936516Z",
     "iopub.status.busy": "2022-03-27T18:37:20.935948Z",
     "iopub.status.idle": "2022-03-27T18:37:42.021492Z",
     "shell.execute_reply": "2022-03-27T18:37:42.020890Z",
     "shell.execute_reply.started": "2022-03-27T18:37:20.936491Z"
    },
    "tags": []
   },
   "outputs": [],
   "source": [
    "# Процентные ставки на разные сроки\n",
    "url = \"http://www.cbr.ru/hd_base/zcyc_params/\"\n",
    "page = requests.get(\n",
    "    url,\n",
    "    params={\n",
    "        \"UniDbQuery.Posted\": \"True\",\n",
    "        \"UniDbQuery.From\": date_from,\n",
    "        \"UniDbQuery.To\": date_to,\n",
    "    },\n",
    ")\n",
    "soup = BeautifulSoup(page.content, \"html.parser\")\n",
    "res = soup.find(\"table\", {\"class\": \"data\"})\n",
    "\n",
    "df = pd.read_html(str(res).replace(\",\", \".\"))[0]\n",
    "df = df.droplevel(0, \"columns\").rename(columns={\"Дата\": \"Date\"})\n",
    "df[\"Date\"] = pd.to_datetime(df[\"Date\"], format=\"%d.%m.%Y\")\n",
    "df = df.set_index(\"Date\").astype(float)\n",
    "df.columns = [float(x.replace(\",\", \".\")) for x in df.columns]\n",
    "df /= 100\n",
    "df.to_csv(\"./data/cbr_g_curve.csv\")"
   ]
  },
  {
   "cell_type": "code",
   "execution_count": 98,
   "id": "464ee968-0229-41c0-b076-87995d56b173",
   "metadata": {
    "execution": {
     "iopub.execute_input": "2022-03-27T18:42:54.686879Z",
     "iopub.status.busy": "2022-03-27T18:42:54.686319Z",
     "iopub.status.idle": "2022-03-27T18:42:56.361549Z",
     "shell.execute_reply": "2022-03-27T18:42:56.361009Z",
     "shell.execute_reply.started": "2022-03-27T18:42:54.686856Z"
    },
    "tags": []
   },
   "outputs": [],
   "source": [
    "# Золото\n",
    "url = \"https://www.cbr.ru/hd_base/metall/metall_base_new\"\n",
    "page = requests.get(\n",
    "    url,\n",
    "    params={\n",
    "        \"UniDbQuery.Posted\": \"True\",\n",
    "        \"UniDbQuery.From\": date_from,\n",
    "        \"UniDbQuery.To\": date_to,\n",
    "        \"UniDbQuery.Gold\": True,\n",
    "    },\n",
    ")\n",
    "soup = BeautifulSoup(page.content, \"html.parser\")\n",
    "res = soup.find(\"table\", {\"class\": \"data\"})\n",
    "df = pd.read_html(str(res).replace(\",\", \".\"))[0]\n",
    "df = df.rename(columns={\"Дата* ▼\": \"Date\", \"Золото\": \"GOLD\"})\n",
    "df[\"Date\"] = pd.to_datetime(df[\"Date\"], format=\"%d.%m.%Y\")\n",
    "df = df.set_index(\"Date\")\n",
    "df[\"GOLD\"] = df[\"GOLD\"].map(lambda x: float(x.replace(\" \", \"\")))\n",
    "df.to_csv('data/GOLD.csv')"
   ]
  },
  {
   "cell_type": "code",
   "execution_count": 111,
   "id": "01ed1cd1-a9d5-48eb-b61b-22b06895ba7b",
   "metadata": {
    "execution": {
     "iopub.execute_input": "2022-03-27T18:48:06.087703Z",
     "iopub.status.busy": "2022-03-27T18:48:06.087258Z",
     "iopub.status.idle": "2022-03-27T18:48:07.461186Z",
     "shell.execute_reply": "2022-03-27T18:48:07.460672Z",
     "shell.execute_reply.started": "2022-03-27T18:48:06.087676Z"
    },
    "tags": []
   },
   "outputs": [],
   "source": [
    "# Доллар, франк\n",
    "url = \"https://www.cbr.ru/currency_base/dynamics/\"\n",
    "currencies = [('USD', 'R01235'), ('CHF', 'R01775')]\n",
    "for curr, param in currencies:\n",
    "    page = requests.get(\n",
    "        url,\n",
    "        params={\n",
    "            \"UniDbQuery.Posted\": \"True\",\n",
    "            \"UniDbQuery.From\": date_from,\n",
    "            \"UniDbQuery.To\": date_to,\n",
    "            \"UniDbQuery.Gold\": True,\n",
    "            \"UniDbQuery.VAL_NM_RQ\": param,\n",
    "        },\n",
    "    )\n",
    "    soup = BeautifulSoup(page.content, \"html.parser\")\n",
    "    res = soup.find(\"table\", {\"class\": \"data\"})\n",
    "    df = pd.read_html(str(res).replace(\",\", \".\"), header=1)[0]\n",
    "    df = df.rename(columns={\"Дата ▼\": \"Date\", \"Курс\": curr})\n",
    "    df.drop(columns=['Единиц'], inplace=True)\n",
    "    df[\"Date\"] = pd.to_datetime(df[\"Date\"], format=\"%d.%m.%Y\")\n",
    "    df = df.set_index(\"Date\")\n",
    "    # df[curr] = df[curr].map(lambda x: float(x.replace(\" \", \"\").replace(',', '.')))\n",
    "    df.to_csv(f\"data/{curr}.csv\")"
   ]
  }
 ],
 "metadata": {
  "kernelspec": {
   "display_name": "Python 3 (ipykernel)",
   "language": "python",
   "name": "python3"
  },
  "language_info": {
   "codemirror_mode": {
    "name": "ipython",
    "version": 3
   },
   "file_extension": ".py",
   "mimetype": "text/x-python",
   "name": "python",
   "nbconvert_exporter": "python",
   "pygments_lexer": "ipython3",
   "version": "3.8.10"
  }
 },
 "nbformat": 4,
 "nbformat_minor": 5
}
